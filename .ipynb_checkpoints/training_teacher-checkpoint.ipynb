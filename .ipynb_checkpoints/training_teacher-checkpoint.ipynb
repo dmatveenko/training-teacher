{
 "cells": [
  {
   "cell_type": "markdown",
   "metadata": {
    "toc": true
   },
   "source": [
    "<h1>Содержание<span class=\"tocSkip\"></span></h1>\n",
    "<div class=\"toc\"><ul class=\"toc-item\"><li><span><a href=\"#Подготовка-данных\" data-toc-modified-id=\"Подготовка-данных-1\"><span class=\"toc-item-num\">1&nbsp;&nbsp;</span>Подготовка данных</a></span></li><li><span><a href=\"#Исследование-задачи\" data-toc-modified-id=\"Исследование-задачи-2\"><span class=\"toc-item-num\">2&nbsp;&nbsp;</span>Исследование задачи</a></span></li><li><span><a href=\"#Борьба-с-дисбалансом\" data-toc-modified-id=\"Борьба-с-дисбалансом-3\"><span class=\"toc-item-num\">3&nbsp;&nbsp;</span>Борьба с дисбалансом</a></span></li><li><span><a href=\"#Тестирование-модели\" data-toc-modified-id=\"Тестирование-модели-4\"><span class=\"toc-item-num\">4&nbsp;&nbsp;</span>Тестирование модели</a></span></li><li><span><a href=\"#Чек-лист-готовности-проекта\" data-toc-modified-id=\"Чек-лист-готовности-проекта-5\"><span class=\"toc-item-num\">5&nbsp;&nbsp;</span>Чек-лист готовности проекта</a></span></li></ul></div>"
   ]
  },
  {
   "cell_type": "markdown",
   "metadata": {},
   "source": [
    "# Отток клиентов"
   ]
  },
  {
   "cell_type": "markdown",
   "metadata": {},
   "source": [
    "Из «Бета-Банка» стали уходить клиенты. Каждый месяц. Немного, но заметно. Банковские маркетологи посчитали: сохранять текущих клиентов дешевле, чем привлекать новых.\n",
    "\n",
    "Нужно спрогнозировать, уйдёт клиент из банка в ближайшее время или нет. Вам предоставлены исторические данные о поведении клиентов и расторжении договоров с банком. \n",
    "\n",
    "Постройте модель с предельно большим значением *F1*-меры. Чтобы сдать проект успешно, нужно довести метрику до 0.59. Проверьте *F1*-меру на тестовой выборке самостоятельно.\n",
    "\n",
    "Дополнительно измеряйте *AUC-ROC*, сравнивайте её значение с *F1*-мерой.\n",
    "\n",
    "Источник данных: [https://www.kaggle.com/barelydedicated/bank-customer-churn-modeling](https://www.kaggle.com/barelydedicated/bank-customer-churn-modeling)"
   ]
  },
  {
   "cell_type": "markdown",
   "metadata": {},
   "source": [
    "## Подготовка данных"
   ]
  },
  {
   "cell_type": "markdown",
   "metadata": {},
   "source": [
    "Импорт необходимых библиотек:"
   ]
  },
  {
   "cell_type": "code",
   "execution_count": 1,
   "metadata": {},
   "outputs": [],
   "source": [
    "import pandas as pd\n",
    "import numpy as np\n",
    "from sklearn.model_selection import train_test_split\n",
    "from sklearn.linear_model import LogisticRegression\n",
    "from sklearn.ensemble import RandomForestClassifier\n",
    "from sklearn.tree import DecisionTreeClassifier\n",
    "from sklearn.preprocessing import OrdinalEncoder\n",
    "from sklearn.metrics import f1_score\n",
    "from sklearn.metrics import accuracy_score\n",
    "from sklearn.metrics import roc_curve\n",
    "from sklearn.metrics import roc_auc_score\n",
    "from sklearn.preprocessing import StandardScaler\n",
    "from sklearn.utils import shuffle\n",
    "import matplotlib.pyplot as plt\n",
    "import warnings\n",
    "warnings.filterwarnings(\"ignore\")"
   ]
  },
  {
   "cell_type": "markdown",
   "metadata": {},
   "source": [
    "Чтение данных из файла:"
   ]
  },
  {
   "cell_type": "code",
   "execution_count": 2,
   "metadata": {},
   "outputs": [],
   "source": [
    "try:\n",
    "    data = pd.read_csv('./datasets/Churn.csv')\n",
    "except:\n",
    "    print('ERROR!')"
   ]
  },
  {
   "cell_type": "markdown",
   "metadata": {},
   "source": [
    "Первичное рассмотрение данных:"
   ]
  },
  {
   "cell_type": "code",
   "execution_count": 3,
   "metadata": {
    "scrolled": true
   },
   "outputs": [
    {
     "data": {
      "text/html": [
       "<div>\n",
       "<style scoped>\n",
       "    .dataframe tbody tr th:only-of-type {\n",
       "        vertical-align: middle;\n",
       "    }\n",
       "\n",
       "    .dataframe tbody tr th {\n",
       "        vertical-align: top;\n",
       "    }\n",
       "\n",
       "    .dataframe thead th {\n",
       "        text-align: right;\n",
       "    }\n",
       "</style>\n",
       "<table border=\"1\" class=\"dataframe\">\n",
       "  <thead>\n",
       "    <tr style=\"text-align: right;\">\n",
       "      <th></th>\n",
       "      <th>RowNumber</th>\n",
       "      <th>CustomerId</th>\n",
       "      <th>Surname</th>\n",
       "      <th>CreditScore</th>\n",
       "      <th>Geography</th>\n",
       "      <th>Gender</th>\n",
       "      <th>Age</th>\n",
       "      <th>Tenure</th>\n",
       "      <th>Balance</th>\n",
       "      <th>NumOfProducts</th>\n",
       "      <th>HasCrCard</th>\n",
       "      <th>IsActiveMember</th>\n",
       "      <th>EstimatedSalary</th>\n",
       "      <th>Exited</th>\n",
       "    </tr>\n",
       "  </thead>\n",
       "  <tbody>\n",
       "    <tr>\n",
       "      <th>0</th>\n",
       "      <td>1</td>\n",
       "      <td>15634602</td>\n",
       "      <td>Hargrave</td>\n",
       "      <td>619</td>\n",
       "      <td>France</td>\n",
       "      <td>Female</td>\n",
       "      <td>42</td>\n",
       "      <td>2.0</td>\n",
       "      <td>0.00</td>\n",
       "      <td>1</td>\n",
       "      <td>1</td>\n",
       "      <td>1</td>\n",
       "      <td>101348.88</td>\n",
       "      <td>1</td>\n",
       "    </tr>\n",
       "    <tr>\n",
       "      <th>1</th>\n",
       "      <td>2</td>\n",
       "      <td>15647311</td>\n",
       "      <td>Hill</td>\n",
       "      <td>608</td>\n",
       "      <td>Spain</td>\n",
       "      <td>Female</td>\n",
       "      <td>41</td>\n",
       "      <td>1.0</td>\n",
       "      <td>83807.86</td>\n",
       "      <td>1</td>\n",
       "      <td>0</td>\n",
       "      <td>1</td>\n",
       "      <td>112542.58</td>\n",
       "      <td>0</td>\n",
       "    </tr>\n",
       "    <tr>\n",
       "      <th>2</th>\n",
       "      <td>3</td>\n",
       "      <td>15619304</td>\n",
       "      <td>Onio</td>\n",
       "      <td>502</td>\n",
       "      <td>France</td>\n",
       "      <td>Female</td>\n",
       "      <td>42</td>\n",
       "      <td>8.0</td>\n",
       "      <td>159660.80</td>\n",
       "      <td>3</td>\n",
       "      <td>1</td>\n",
       "      <td>0</td>\n",
       "      <td>113931.57</td>\n",
       "      <td>1</td>\n",
       "    </tr>\n",
       "    <tr>\n",
       "      <th>3</th>\n",
       "      <td>4</td>\n",
       "      <td>15701354</td>\n",
       "      <td>Boni</td>\n",
       "      <td>699</td>\n",
       "      <td>France</td>\n",
       "      <td>Female</td>\n",
       "      <td>39</td>\n",
       "      <td>1.0</td>\n",
       "      <td>0.00</td>\n",
       "      <td>2</td>\n",
       "      <td>0</td>\n",
       "      <td>0</td>\n",
       "      <td>93826.63</td>\n",
       "      <td>0</td>\n",
       "    </tr>\n",
       "    <tr>\n",
       "      <th>4</th>\n",
       "      <td>5</td>\n",
       "      <td>15737888</td>\n",
       "      <td>Mitchell</td>\n",
       "      <td>850</td>\n",
       "      <td>Spain</td>\n",
       "      <td>Female</td>\n",
       "      <td>43</td>\n",
       "      <td>2.0</td>\n",
       "      <td>125510.82</td>\n",
       "      <td>1</td>\n",
       "      <td>1</td>\n",
       "      <td>1</td>\n",
       "      <td>79084.10</td>\n",
       "      <td>0</td>\n",
       "    </tr>\n",
       "  </tbody>\n",
       "</table>\n",
       "</div>"
      ],
      "text/plain": [
       "   RowNumber  CustomerId   Surname  CreditScore Geography  Gender  Age  \\\n",
       "0          1    15634602  Hargrave          619    France  Female   42   \n",
       "1          2    15647311      Hill          608     Spain  Female   41   \n",
       "2          3    15619304      Onio          502    France  Female   42   \n",
       "3          4    15701354      Boni          699    France  Female   39   \n",
       "4          5    15737888  Mitchell          850     Spain  Female   43   \n",
       "\n",
       "   Tenure    Balance  NumOfProducts  HasCrCard  IsActiveMember  \\\n",
       "0     2.0       0.00              1          1               1   \n",
       "1     1.0   83807.86              1          0               1   \n",
       "2     8.0  159660.80              3          1               0   \n",
       "3     1.0       0.00              2          0               0   \n",
       "4     2.0  125510.82              1          1               1   \n",
       "\n",
       "   EstimatedSalary  Exited  \n",
       "0        101348.88       1  \n",
       "1        112542.58       0  \n",
       "2        113931.57       1  \n",
       "3         93826.63       0  \n",
       "4         79084.10       0  "
      ]
     },
     "execution_count": 3,
     "metadata": {},
     "output_type": "execute_result"
    }
   ],
   "source": [
    "data.head()"
   ]
  },
  {
   "cell_type": "code",
   "execution_count": 4,
   "metadata": {},
   "outputs": [
    {
     "name": "stdout",
     "output_type": "stream",
     "text": [
      "<class 'pandas.core.frame.DataFrame'>\n",
      "RangeIndex: 10000 entries, 0 to 9999\n",
      "Data columns (total 14 columns):\n",
      " #   Column           Non-Null Count  Dtype  \n",
      "---  ------           --------------  -----  \n",
      " 0   RowNumber        10000 non-null  int64  \n",
      " 1   CustomerId       10000 non-null  int64  \n",
      " 2   Surname          10000 non-null  object \n",
      " 3   CreditScore      10000 non-null  int64  \n",
      " 4   Geography        10000 non-null  object \n",
      " 5   Gender           10000 non-null  object \n",
      " 6   Age              10000 non-null  int64  \n",
      " 7   Tenure           9091 non-null   float64\n",
      " 8   Balance          10000 non-null  float64\n",
      " 9   NumOfProducts    10000 non-null  int64  \n",
      " 10  HasCrCard        10000 non-null  int64  \n",
      " 11  IsActiveMember   10000 non-null  int64  \n",
      " 12  EstimatedSalary  10000 non-null  float64\n",
      " 13  Exited           10000 non-null  int64  \n",
      "dtypes: float64(3), int64(8), object(3)\n",
      "memory usage: 1.1+ MB\n"
     ]
    }
   ],
   "source": [
    "data.info()"
   ]
  },
  {
   "cell_type": "code",
   "execution_count": 5,
   "metadata": {
    "scrolled": false
   },
   "outputs": [
    {
     "data": {
      "text/html": [
       "<div>\n",
       "<style scoped>\n",
       "    .dataframe tbody tr th:only-of-type {\n",
       "        vertical-align: middle;\n",
       "    }\n",
       "\n",
       "    .dataframe tbody tr th {\n",
       "        vertical-align: top;\n",
       "    }\n",
       "\n",
       "    .dataframe thead th {\n",
       "        text-align: right;\n",
       "    }\n",
       "</style>\n",
       "<table border=\"1\" class=\"dataframe\">\n",
       "  <thead>\n",
       "    <tr style=\"text-align: right;\">\n",
       "      <th></th>\n",
       "      <th>count</th>\n",
       "      <th>mean</th>\n",
       "      <th>std</th>\n",
       "      <th>min</th>\n",
       "      <th>25%</th>\n",
       "      <th>50%</th>\n",
       "      <th>75%</th>\n",
       "      <th>max</th>\n",
       "    </tr>\n",
       "  </thead>\n",
       "  <tbody>\n",
       "    <tr>\n",
       "      <th>RowNumber</th>\n",
       "      <td>10000.0</td>\n",
       "      <td>5.000500e+03</td>\n",
       "      <td>2886.895680</td>\n",
       "      <td>1.00</td>\n",
       "      <td>2500.75</td>\n",
       "      <td>5.000500e+03</td>\n",
       "      <td>7.500250e+03</td>\n",
       "      <td>10000.00</td>\n",
       "    </tr>\n",
       "    <tr>\n",
       "      <th>CustomerId</th>\n",
       "      <td>10000.0</td>\n",
       "      <td>1.569094e+07</td>\n",
       "      <td>71936.186123</td>\n",
       "      <td>15565701.00</td>\n",
       "      <td>15628528.25</td>\n",
       "      <td>1.569074e+07</td>\n",
       "      <td>1.575323e+07</td>\n",
       "      <td>15815690.00</td>\n",
       "    </tr>\n",
       "    <tr>\n",
       "      <th>CreditScore</th>\n",
       "      <td>10000.0</td>\n",
       "      <td>6.505288e+02</td>\n",
       "      <td>96.653299</td>\n",
       "      <td>350.00</td>\n",
       "      <td>584.00</td>\n",
       "      <td>6.520000e+02</td>\n",
       "      <td>7.180000e+02</td>\n",
       "      <td>850.00</td>\n",
       "    </tr>\n",
       "    <tr>\n",
       "      <th>Age</th>\n",
       "      <td>10000.0</td>\n",
       "      <td>3.892180e+01</td>\n",
       "      <td>10.487806</td>\n",
       "      <td>18.00</td>\n",
       "      <td>32.00</td>\n",
       "      <td>3.700000e+01</td>\n",
       "      <td>4.400000e+01</td>\n",
       "      <td>92.00</td>\n",
       "    </tr>\n",
       "    <tr>\n",
       "      <th>Tenure</th>\n",
       "      <td>9091.0</td>\n",
       "      <td>4.997690e+00</td>\n",
       "      <td>2.894723</td>\n",
       "      <td>0.00</td>\n",
       "      <td>2.00</td>\n",
       "      <td>5.000000e+00</td>\n",
       "      <td>7.000000e+00</td>\n",
       "      <td>10.00</td>\n",
       "    </tr>\n",
       "    <tr>\n",
       "      <th>Balance</th>\n",
       "      <td>10000.0</td>\n",
       "      <td>7.648589e+04</td>\n",
       "      <td>62397.405202</td>\n",
       "      <td>0.00</td>\n",
       "      <td>0.00</td>\n",
       "      <td>9.719854e+04</td>\n",
       "      <td>1.276442e+05</td>\n",
       "      <td>250898.09</td>\n",
       "    </tr>\n",
       "    <tr>\n",
       "      <th>NumOfProducts</th>\n",
       "      <td>10000.0</td>\n",
       "      <td>1.530200e+00</td>\n",
       "      <td>0.581654</td>\n",
       "      <td>1.00</td>\n",
       "      <td>1.00</td>\n",
       "      <td>1.000000e+00</td>\n",
       "      <td>2.000000e+00</td>\n",
       "      <td>4.00</td>\n",
       "    </tr>\n",
       "    <tr>\n",
       "      <th>HasCrCard</th>\n",
       "      <td>10000.0</td>\n",
       "      <td>7.055000e-01</td>\n",
       "      <td>0.455840</td>\n",
       "      <td>0.00</td>\n",
       "      <td>0.00</td>\n",
       "      <td>1.000000e+00</td>\n",
       "      <td>1.000000e+00</td>\n",
       "      <td>1.00</td>\n",
       "    </tr>\n",
       "    <tr>\n",
       "      <th>IsActiveMember</th>\n",
       "      <td>10000.0</td>\n",
       "      <td>5.151000e-01</td>\n",
       "      <td>0.499797</td>\n",
       "      <td>0.00</td>\n",
       "      <td>0.00</td>\n",
       "      <td>1.000000e+00</td>\n",
       "      <td>1.000000e+00</td>\n",
       "      <td>1.00</td>\n",
       "    </tr>\n",
       "    <tr>\n",
       "      <th>EstimatedSalary</th>\n",
       "      <td>10000.0</td>\n",
       "      <td>1.000902e+05</td>\n",
       "      <td>57510.492818</td>\n",
       "      <td>11.58</td>\n",
       "      <td>51002.11</td>\n",
       "      <td>1.001939e+05</td>\n",
       "      <td>1.493882e+05</td>\n",
       "      <td>199992.48</td>\n",
       "    </tr>\n",
       "    <tr>\n",
       "      <th>Exited</th>\n",
       "      <td>10000.0</td>\n",
       "      <td>2.037000e-01</td>\n",
       "      <td>0.402769</td>\n",
       "      <td>0.00</td>\n",
       "      <td>0.00</td>\n",
       "      <td>0.000000e+00</td>\n",
       "      <td>0.000000e+00</td>\n",
       "      <td>1.00</td>\n",
       "    </tr>\n",
       "  </tbody>\n",
       "</table>\n",
       "</div>"
      ],
      "text/plain": [
       "                   count          mean           std          min  \\\n",
       "RowNumber        10000.0  5.000500e+03   2886.895680         1.00   \n",
       "CustomerId       10000.0  1.569094e+07  71936.186123  15565701.00   \n",
       "CreditScore      10000.0  6.505288e+02     96.653299       350.00   \n",
       "Age              10000.0  3.892180e+01     10.487806        18.00   \n",
       "Tenure            9091.0  4.997690e+00      2.894723         0.00   \n",
       "Balance          10000.0  7.648589e+04  62397.405202         0.00   \n",
       "NumOfProducts    10000.0  1.530200e+00      0.581654         1.00   \n",
       "HasCrCard        10000.0  7.055000e-01      0.455840         0.00   \n",
       "IsActiveMember   10000.0  5.151000e-01      0.499797         0.00   \n",
       "EstimatedSalary  10000.0  1.000902e+05  57510.492818        11.58   \n",
       "Exited           10000.0  2.037000e-01      0.402769         0.00   \n",
       "\n",
       "                         25%           50%           75%          max  \n",
       "RowNumber            2500.75  5.000500e+03  7.500250e+03     10000.00  \n",
       "CustomerId       15628528.25  1.569074e+07  1.575323e+07  15815690.00  \n",
       "CreditScore           584.00  6.520000e+02  7.180000e+02       850.00  \n",
       "Age                    32.00  3.700000e+01  4.400000e+01        92.00  \n",
       "Tenure                  2.00  5.000000e+00  7.000000e+00        10.00  \n",
       "Balance                 0.00  9.719854e+04  1.276442e+05    250898.09  \n",
       "NumOfProducts           1.00  1.000000e+00  2.000000e+00         4.00  \n",
       "HasCrCard               0.00  1.000000e+00  1.000000e+00         1.00  \n",
       "IsActiveMember          0.00  1.000000e+00  1.000000e+00         1.00  \n",
       "EstimatedSalary     51002.11  1.001939e+05  1.493882e+05    199992.48  \n",
       "Exited                  0.00  0.000000e+00  0.000000e+00         1.00  "
      ]
     },
     "execution_count": 5,
     "metadata": {},
     "output_type": "execute_result"
    }
   ],
   "source": [
    "data.describe().T"
   ]
  },
  {
   "cell_type": "markdown",
   "metadata": {},
   "source": [
    "Обнаружены значения 'Nan' в датафрейме, вводящие в заблуждение, в том числе и алгоритмы ML. Вопрос к поставщику данных. Поскольку не можем ничего сказать относительно происхождения Нанов, Предлагаю строчки с 'Nan' - удалить (их ~1/10 от общего количества строк)."
   ]
  },
  {
   "cell_type": "code",
   "execution_count": 6,
   "metadata": {
    "scrolled": true
   },
   "outputs": [
    {
     "data": {
      "text/html": [
       "<div>\n",
       "<style scoped>\n",
       "    .dataframe tbody tr th:only-of-type {\n",
       "        vertical-align: middle;\n",
       "    }\n",
       "\n",
       "    .dataframe tbody tr th {\n",
       "        vertical-align: top;\n",
       "    }\n",
       "\n",
       "    .dataframe thead th {\n",
       "        text-align: right;\n",
       "    }\n",
       "</style>\n",
       "<table border=\"1\" class=\"dataframe\">\n",
       "  <thead>\n",
       "    <tr style=\"text-align: right;\">\n",
       "      <th></th>\n",
       "      <th>RowNumber</th>\n",
       "      <th>CustomerId</th>\n",
       "      <th>Surname</th>\n",
       "      <th>CreditScore</th>\n",
       "      <th>Geography</th>\n",
       "      <th>Gender</th>\n",
       "      <th>Age</th>\n",
       "      <th>Tenure</th>\n",
       "      <th>Balance</th>\n",
       "      <th>NumOfProducts</th>\n",
       "      <th>HasCrCard</th>\n",
       "      <th>IsActiveMember</th>\n",
       "      <th>EstimatedSalary</th>\n",
       "      <th>Exited</th>\n",
       "    </tr>\n",
       "  </thead>\n",
       "  <tbody>\n",
       "    <tr>\n",
       "      <th>30</th>\n",
       "      <td>31</td>\n",
       "      <td>15589475</td>\n",
       "      <td>Azikiwe</td>\n",
       "      <td>591</td>\n",
       "      <td>Spain</td>\n",
       "      <td>Female</td>\n",
       "      <td>39</td>\n",
       "      <td>NaN</td>\n",
       "      <td>0.00</td>\n",
       "      <td>3</td>\n",
       "      <td>1</td>\n",
       "      <td>0</td>\n",
       "      <td>140469.38</td>\n",
       "      <td>1</td>\n",
       "    </tr>\n",
       "    <tr>\n",
       "      <th>48</th>\n",
       "      <td>49</td>\n",
       "      <td>15766205</td>\n",
       "      <td>Yin</td>\n",
       "      <td>550</td>\n",
       "      <td>Germany</td>\n",
       "      <td>Male</td>\n",
       "      <td>38</td>\n",
       "      <td>NaN</td>\n",
       "      <td>103391.38</td>\n",
       "      <td>1</td>\n",
       "      <td>0</td>\n",
       "      <td>1</td>\n",
       "      <td>90878.13</td>\n",
       "      <td>0</td>\n",
       "    </tr>\n",
       "    <tr>\n",
       "      <th>51</th>\n",
       "      <td>52</td>\n",
       "      <td>15768193</td>\n",
       "      <td>Trevisani</td>\n",
       "      <td>585</td>\n",
       "      <td>Germany</td>\n",
       "      <td>Male</td>\n",
       "      <td>36</td>\n",
       "      <td>NaN</td>\n",
       "      <td>146050.97</td>\n",
       "      <td>2</td>\n",
       "      <td>0</td>\n",
       "      <td>0</td>\n",
       "      <td>86424.57</td>\n",
       "      <td>0</td>\n",
       "    </tr>\n",
       "    <tr>\n",
       "      <th>53</th>\n",
       "      <td>54</td>\n",
       "      <td>15702298</td>\n",
       "      <td>Parkhill</td>\n",
       "      <td>655</td>\n",
       "      <td>Germany</td>\n",
       "      <td>Male</td>\n",
       "      <td>41</td>\n",
       "      <td>NaN</td>\n",
       "      <td>125561.97</td>\n",
       "      <td>1</td>\n",
       "      <td>0</td>\n",
       "      <td>0</td>\n",
       "      <td>164040.94</td>\n",
       "      <td>1</td>\n",
       "    </tr>\n",
       "    <tr>\n",
       "      <th>60</th>\n",
       "      <td>61</td>\n",
       "      <td>15651280</td>\n",
       "      <td>Hunter</td>\n",
       "      <td>742</td>\n",
       "      <td>Germany</td>\n",
       "      <td>Male</td>\n",
       "      <td>35</td>\n",
       "      <td>NaN</td>\n",
       "      <td>136857.00</td>\n",
       "      <td>1</td>\n",
       "      <td>0</td>\n",
       "      <td>0</td>\n",
       "      <td>84509.57</td>\n",
       "      <td>0</td>\n",
       "    </tr>\n",
       "    <tr>\n",
       "      <th>...</th>\n",
       "      <td>...</td>\n",
       "      <td>...</td>\n",
       "      <td>...</td>\n",
       "      <td>...</td>\n",
       "      <td>...</td>\n",
       "      <td>...</td>\n",
       "      <td>...</td>\n",
       "      <td>...</td>\n",
       "      <td>...</td>\n",
       "      <td>...</td>\n",
       "      <td>...</td>\n",
       "      <td>...</td>\n",
       "      <td>...</td>\n",
       "      <td>...</td>\n",
       "    </tr>\n",
       "    <tr>\n",
       "      <th>9944</th>\n",
       "      <td>9945</td>\n",
       "      <td>15703923</td>\n",
       "      <td>Cameron</td>\n",
       "      <td>744</td>\n",
       "      <td>Germany</td>\n",
       "      <td>Male</td>\n",
       "      <td>41</td>\n",
       "      <td>NaN</td>\n",
       "      <td>190409.34</td>\n",
       "      <td>2</td>\n",
       "      <td>1</td>\n",
       "      <td>1</td>\n",
       "      <td>138361.48</td>\n",
       "      <td>0</td>\n",
       "    </tr>\n",
       "    <tr>\n",
       "      <th>9956</th>\n",
       "      <td>9957</td>\n",
       "      <td>15707861</td>\n",
       "      <td>Nucci</td>\n",
       "      <td>520</td>\n",
       "      <td>France</td>\n",
       "      <td>Female</td>\n",
       "      <td>46</td>\n",
       "      <td>NaN</td>\n",
       "      <td>85216.61</td>\n",
       "      <td>1</td>\n",
       "      <td>1</td>\n",
       "      <td>0</td>\n",
       "      <td>117369.52</td>\n",
       "      <td>1</td>\n",
       "    </tr>\n",
       "    <tr>\n",
       "      <th>9964</th>\n",
       "      <td>9965</td>\n",
       "      <td>15642785</td>\n",
       "      <td>Douglas</td>\n",
       "      <td>479</td>\n",
       "      <td>France</td>\n",
       "      <td>Male</td>\n",
       "      <td>34</td>\n",
       "      <td>NaN</td>\n",
       "      <td>117593.48</td>\n",
       "      <td>2</td>\n",
       "      <td>0</td>\n",
       "      <td>0</td>\n",
       "      <td>113308.29</td>\n",
       "      <td>0</td>\n",
       "    </tr>\n",
       "    <tr>\n",
       "      <th>9985</th>\n",
       "      <td>9986</td>\n",
       "      <td>15586914</td>\n",
       "      <td>Nepean</td>\n",
       "      <td>659</td>\n",
       "      <td>France</td>\n",
       "      <td>Male</td>\n",
       "      <td>36</td>\n",
       "      <td>NaN</td>\n",
       "      <td>123841.49</td>\n",
       "      <td>2</td>\n",
       "      <td>1</td>\n",
       "      <td>0</td>\n",
       "      <td>96833.00</td>\n",
       "      <td>0</td>\n",
       "    </tr>\n",
       "    <tr>\n",
       "      <th>9999</th>\n",
       "      <td>10000</td>\n",
       "      <td>15628319</td>\n",
       "      <td>Walker</td>\n",
       "      <td>792</td>\n",
       "      <td>France</td>\n",
       "      <td>Female</td>\n",
       "      <td>28</td>\n",
       "      <td>NaN</td>\n",
       "      <td>130142.79</td>\n",
       "      <td>1</td>\n",
       "      <td>1</td>\n",
       "      <td>0</td>\n",
       "      <td>38190.78</td>\n",
       "      <td>0</td>\n",
       "    </tr>\n",
       "  </tbody>\n",
       "</table>\n",
       "<p>909 rows × 14 columns</p>\n",
       "</div>"
      ],
      "text/plain": [
       "      RowNumber  CustomerId    Surname  CreditScore Geography  Gender  Age  \\\n",
       "30           31    15589475    Azikiwe          591     Spain  Female   39   \n",
       "48           49    15766205        Yin          550   Germany    Male   38   \n",
       "51           52    15768193  Trevisani          585   Germany    Male   36   \n",
       "53           54    15702298   Parkhill          655   Germany    Male   41   \n",
       "60           61    15651280     Hunter          742   Germany    Male   35   \n",
       "...         ...         ...        ...          ...       ...     ...  ...   \n",
       "9944       9945    15703923    Cameron          744   Germany    Male   41   \n",
       "9956       9957    15707861      Nucci          520    France  Female   46   \n",
       "9964       9965    15642785    Douglas          479    France    Male   34   \n",
       "9985       9986    15586914     Nepean          659    France    Male   36   \n",
       "9999      10000    15628319     Walker          792    France  Female   28   \n",
       "\n",
       "      Tenure    Balance  NumOfProducts  HasCrCard  IsActiveMember  \\\n",
       "30       NaN       0.00              3          1               0   \n",
       "48       NaN  103391.38              1          0               1   \n",
       "51       NaN  146050.97              2          0               0   \n",
       "53       NaN  125561.97              1          0               0   \n",
       "60       NaN  136857.00              1          0               0   \n",
       "...      ...        ...            ...        ...             ...   \n",
       "9944     NaN  190409.34              2          1               1   \n",
       "9956     NaN   85216.61              1          1               0   \n",
       "9964     NaN  117593.48              2          0               0   \n",
       "9985     NaN  123841.49              2          1               0   \n",
       "9999     NaN  130142.79              1          1               0   \n",
       "\n",
       "      EstimatedSalary  Exited  \n",
       "30          140469.38       1  \n",
       "48           90878.13       0  \n",
       "51           86424.57       0  \n",
       "53          164040.94       1  \n",
       "60           84509.57       0  \n",
       "...               ...     ...  \n",
       "9944        138361.48       0  \n",
       "9956        117369.52       1  \n",
       "9964        113308.29       0  \n",
       "9985         96833.00       0  \n",
       "9999         38190.78       0  \n",
       "\n",
       "[909 rows x 14 columns]"
      ]
     },
     "execution_count": 6,
     "metadata": {},
     "output_type": "execute_result"
    }
   ],
   "source": [
    "data[data['Tenure'].isna()]"
   ]
  },
  {
   "cell_type": "code",
   "execution_count": 7,
   "metadata": {},
   "outputs": [],
   "source": [
    "data = data.dropna()"
   ]
  },
  {
   "cell_type": "code",
   "execution_count": 8,
   "metadata": {},
   "outputs": [
    {
     "name": "stdout",
     "output_type": "stream",
     "text": [
      "<class 'pandas.core.frame.DataFrame'>\n",
      "Int64Index: 9091 entries, 0 to 9998\n",
      "Data columns (total 14 columns):\n",
      " #   Column           Non-Null Count  Dtype  \n",
      "---  ------           --------------  -----  \n",
      " 0   RowNumber        9091 non-null   int64  \n",
      " 1   CustomerId       9091 non-null   int64  \n",
      " 2   Surname          9091 non-null   object \n",
      " 3   CreditScore      9091 non-null   int64  \n",
      " 4   Geography        9091 non-null   object \n",
      " 5   Gender           9091 non-null   object \n",
      " 6   Age              9091 non-null   int64  \n",
      " 7   Tenure           9091 non-null   float64\n",
      " 8   Balance          9091 non-null   float64\n",
      " 9   NumOfProducts    9091 non-null   int64  \n",
      " 10  HasCrCard        9091 non-null   int64  \n",
      " 11  IsActiveMember   9091 non-null   int64  \n",
      " 12  EstimatedSalary  9091 non-null   float64\n",
      " 13  Exited           9091 non-null   int64  \n",
      "dtypes: float64(3), int64(8), object(3)\n",
      "memory usage: 1.0+ MB\n"
     ]
    }
   ],
   "source": [
    "data.info()"
   ]
  },
  {
   "cell_type": "markdown",
   "metadata": {},
   "source": [
    "После рассмотрения таблицы можно сказать, что столбцы 'RowNumber', 'Surname' и 'CistomerId' (номер строки, фамилия и ид) не несут для обучения модели полезной информации. Поэтому данные столбцы предлагается исключить из рассмотрения (drop) без потери информации для обучения."
   ]
  },
  {
   "cell_type": "code",
   "execution_count": 9,
   "metadata": {},
   "outputs": [],
   "source": [
    "data = data.drop(['RowNumber', 'CustomerId', 'Surname'], axis = 1)"
   ]
  },
  {
   "cell_type": "markdown",
   "metadata": {
    "scrolled": true
   },
   "source": [
    "Далее - применяется порядковое кодирование к датафрейму:"
   ]
  },
  {
   "cell_type": "code",
   "execution_count": 10,
   "metadata": {},
   "outputs": [],
   "source": [
    "data_ohe = pd.get_dummies(data, drop_first = True)"
   ]
  },
  {
   "cell_type": "markdown",
   "metadata": {},
   "source": [
    "Масштабирование данных:"
   ]
  },
  {
   "cell_type": "code",
   "execution_count": 11,
   "metadata": {},
   "outputs": [],
   "source": [
    "numeric = ['CreditScore', 'Age', 'Tenure', 'Balance', 'EstimatedSalary']\n",
    "scaler = StandardScaler()\n",
    "scaler.fit(data_ohe[numeric])\n",
    "data_ohe[numeric] = scaler.transform(data_ohe[numeric])"
   ]
  },
  {
   "cell_type": "markdown",
   "metadata": {},
   "source": [
    "Датафрейм для дальнейшей обработки выглядит так:"
   ]
  },
  {
   "cell_type": "code",
   "execution_count": 12,
   "metadata": {
    "scrolled": false
   },
   "outputs": [
    {
     "data": {
      "text/html": [
       "<div>\n",
       "<style scoped>\n",
       "    .dataframe tbody tr th:only-of-type {\n",
       "        vertical-align: middle;\n",
       "    }\n",
       "\n",
       "    .dataframe tbody tr th {\n",
       "        vertical-align: top;\n",
       "    }\n",
       "\n",
       "    .dataframe thead th {\n",
       "        text-align: right;\n",
       "    }\n",
       "</style>\n",
       "<table border=\"1\" class=\"dataframe\">\n",
       "  <thead>\n",
       "    <tr style=\"text-align: right;\">\n",
       "      <th></th>\n",
       "      <th>CreditScore</th>\n",
       "      <th>Age</th>\n",
       "      <th>Tenure</th>\n",
       "      <th>Balance</th>\n",
       "      <th>NumOfProducts</th>\n",
       "      <th>HasCrCard</th>\n",
       "      <th>IsActiveMember</th>\n",
       "      <th>EstimatedSalary</th>\n",
       "      <th>Exited</th>\n",
       "      <th>Geography_Germany</th>\n",
       "      <th>Geography_Spain</th>\n",
       "      <th>Gender_Male</th>\n",
       "    </tr>\n",
       "  </thead>\n",
       "  <tbody>\n",
       "    <tr>\n",
       "      <th>0</th>\n",
       "      <td>-0.329200</td>\n",
       "      <td>0.289040</td>\n",
       "      <td>-1.035627</td>\n",
       "      <td>-1.227780</td>\n",
       "      <td>1</td>\n",
       "      <td>1</td>\n",
       "      <td>1</td>\n",
       "      <td>0.020264</td>\n",
       "      <td>1</td>\n",
       "      <td>0</td>\n",
       "      <td>0</td>\n",
       "      <td>0</td>\n",
       "    </tr>\n",
       "    <tr>\n",
       "      <th>1</th>\n",
       "      <td>-0.443301</td>\n",
       "      <td>0.194298</td>\n",
       "      <td>-1.381103</td>\n",
       "      <td>0.116887</td>\n",
       "      <td>1</td>\n",
       "      <td>0</td>\n",
       "      <td>1</td>\n",
       "      <td>0.214527</td>\n",
       "      <td>0</td>\n",
       "      <td>0</td>\n",
       "      <td>1</td>\n",
       "      <td>0</td>\n",
       "    </tr>\n",
       "    <tr>\n",
       "      <th>2</th>\n",
       "      <td>-1.542828</td>\n",
       "      <td>0.289040</td>\n",
       "      <td>1.037224</td>\n",
       "      <td>1.333920</td>\n",
       "      <td>3</td>\n",
       "      <td>1</td>\n",
       "      <td>0</td>\n",
       "      <td>0.238632</td>\n",
       "      <td>1</td>\n",
       "      <td>0</td>\n",
       "      <td>0</td>\n",
       "      <td>0</td>\n",
       "    </tr>\n",
       "    <tr>\n",
       "      <th>3</th>\n",
       "      <td>0.500631</td>\n",
       "      <td>0.004815</td>\n",
       "      <td>-1.381103</td>\n",
       "      <td>-1.227780</td>\n",
       "      <td>2</td>\n",
       "      <td>0</td>\n",
       "      <td>0</td>\n",
       "      <td>-0.110281</td>\n",
       "      <td>0</td>\n",
       "      <td>0</td>\n",
       "      <td>0</td>\n",
       "      <td>0</td>\n",
       "    </tr>\n",
       "    <tr>\n",
       "      <th>4</th>\n",
       "      <td>2.066937</td>\n",
       "      <td>0.383782</td>\n",
       "      <td>-1.035627</td>\n",
       "      <td>0.785996</td>\n",
       "      <td>1</td>\n",
       "      <td>1</td>\n",
       "      <td>1</td>\n",
       "      <td>-0.366132</td>\n",
       "      <td>0</td>\n",
       "      <td>0</td>\n",
       "      <td>1</td>\n",
       "      <td>0</td>\n",
       "    </tr>\n",
       "  </tbody>\n",
       "</table>\n",
       "</div>"
      ],
      "text/plain": [
       "   CreditScore       Age    Tenure   Balance  NumOfProducts  HasCrCard  \\\n",
       "0    -0.329200  0.289040 -1.035627 -1.227780              1          1   \n",
       "1    -0.443301  0.194298 -1.381103  0.116887              1          0   \n",
       "2    -1.542828  0.289040  1.037224  1.333920              3          1   \n",
       "3     0.500631  0.004815 -1.381103 -1.227780              2          0   \n",
       "4     2.066937  0.383782 -1.035627  0.785996              1          1   \n",
       "\n",
       "   IsActiveMember  EstimatedSalary  Exited  Geography_Germany  \\\n",
       "0               1         0.020264       1                  0   \n",
       "1               1         0.214527       0                  0   \n",
       "2               0         0.238632       1                  0   \n",
       "3               0        -0.110281       0                  0   \n",
       "4               1        -0.366132       0                  0   \n",
       "\n",
       "   Geography_Spain  Gender_Male  \n",
       "0                0            0  \n",
       "1                1            0  \n",
       "2                0            0  \n",
       "3                0            0  \n",
       "4                1            0  "
      ]
     },
     "execution_count": 12,
     "metadata": {},
     "output_type": "execute_result"
    }
   ],
   "source": [
    "data_ohe.head()"
   ]
  },
  {
   "cell_type": "markdown",
   "metadata": {},
   "source": [
    "Разделение выборки на обучающую, валидационную и тестовую в соотношении 60/20/20:"
   ]
  },
  {
   "cell_type": "code",
   "execution_count": 13,
   "metadata": {},
   "outputs": [],
   "source": [
    "data_train, data_valid = train_test_split(data_ohe, test_size = .4, random_state = 12345)\n",
    "data_valid, data_test = train_test_split(data_valid, test_size = .5, random_state = 12345)"
   ]
  },
  {
   "cell_type": "markdown",
   "metadata": {},
   "source": [
    "Разделение данных на обучающие и целевые признаки:"
   ]
  },
  {
   "cell_type": "code",
   "execution_count": 14,
   "metadata": {},
   "outputs": [],
   "source": [
    "features_train = data_train.drop('Exited', axis = 1)\n",
    "features_valid = data_valid.drop('Exited', axis = 1)\n",
    "features_test = data_test.drop('Exited', axis = 1)\n",
    "target_train = data_train['Exited']\n",
    "target_valid = data_valid['Exited']\n",
    "target_test = data_test['Exited']"
   ]
  },
  {
   "cell_type": "markdown",
   "metadata": {},
   "source": [
    "## Исследование задачи"
   ]
  },
  {
   "cell_type": "markdown",
   "metadata": {},
   "source": [
    "<p>Далее предлагается следующий сценарий исследования:</p>\n",
    "<p>1. Создать и обучить модели логистической регрессии, случайного дерева, случайного леса на несбалансированных данных без учета баланса классов</p>\n",
    "<p>2. Создать и обучить модели логистической регрессии, случайного дерева, случайного леса на несбалансированных данных с опцией class_weight = 'balanced'</p>\n",
    "<p>3. Увеличить выборку (upsample), Создать и обучить модели логистической регрессии, случайного дерева, случайного леса увеличенной выборке</p>\n",
    "<p>Для каждой задачи сравниваем с константной моделью, считаем accuracy, f1 и строим AUC-ROC</p>\n",
    "<p>При этом для моделей случайного дерева и случайного леса подбираем оптимальные параметры - перебором.</p>\n",
    "<p>Для удобства соответствующе сценарии обучения, а также построения графиков AUC-ROC, записаны в функции:</p>"
   ]
  },
  {
   "cell_type": "markdown",
   "metadata": {},
   "source": [
    "Функция создания и обучения модели логистической регрессии:"
   ]
  },
  {
   "cell_type": "code",
   "execution_count": 15,
   "metadata": {},
   "outputs": [],
   "source": [
    "def log_regression_ml(features_train, target_train, features_valid, target_valid, balance):\n",
    "    model = None\n",
    "    weight = None\n",
    "    if balance:\n",
    "        weight = 'balanced'\n",
    "    model = LogisticRegression(random_state=12345, solver='liblinear', class_weight = weight)\n",
    "    model.fit(features_train, target_train)\n",
    "    predicted_valid = model.predict(features_valid)\n",
    "    predicted_constant = pd.Series([0]*len(predicted_valid))\n",
    "    print('--------------------------------------------')\n",
    "    if balance:\n",
    "        print('Результаты для обучения модели логистической регрессии с учетом веса классов:')\n",
    "    else:\n",
    "        print('Результаты для обучения модели логистической регрессии без учета веса классов:')\n",
    "    print('Значение метрики f1:', f1_score(target_valid, predicted_valid))\n",
    "    print('Значение accuracy:', accuracy_score(target_valid, predicted_valid))\n",
    "    print('Сравнение с константной моделью:', accuracy_score(target_valid, predicted_constant))\n",
    "    return model"
   ]
  },
  {
   "cell_type": "markdown",
   "metadata": {},
   "source": [
    "Функция создания и обучения оптимальной модели случайного дерева. Оптимальная по мере f1 глубина ищется перебором на определенном интервале [min_d..max_d] - типа min_depth и max_depth."
   ]
  },
  {
   "cell_type": "code",
   "execution_count": 16,
   "metadata": {},
   "outputs": [],
   "source": [
    "def tree_ml(features_train, target_train, features_valid, target_valid, min_d, max_d, balance):\n",
    "    best_depth = min_d\n",
    "    best_score = 0\n",
    "    best_model = None\n",
    "    weight = None\n",
    "    if balance:\n",
    "        weight = 'balanced'\n",
    "    for depth in range(min_d, max_d + 1, 1):\n",
    "        model = DecisionTreeClassifier(max_depth = depth, random_state = 12345, class_weight = weight)\n",
    "        model.fit(features_train, target_train)\n",
    "        predicted_valid = model.predict(features_valid)\n",
    "        score = f1_score(target_valid, predicted_valid)\n",
    "        if score > best_score:\n",
    "            best_score = score\n",
    "            best_depth = depth\n",
    "            best_model = model\n",
    "    print('--------------------------------------------')\n",
    "    if balance:\n",
    "        print('Результаты для обучения модели случайного дерева с учетом веса классов:')\n",
    "    else:\n",
    "        print('Результаты для обучения модели случайного дерева без учета веса классов:')\n",
    "    print('Оптимальная глубина:', best_depth)\n",
    "    print('Значение метрики f1:', best_score)\n",
    "    predicted_valid = best_model.predict(features_valid)\n",
    "    print('Значение accuracy:', accuracy_score(target_valid, predicted_valid))\n",
    "    predicted_constant = pd.Series([0]*len(predicted_valid))\n",
    "    print('Сравнение с константной моделью:', accuracy_score(target_valid, predicted_constant))\n",
    "    return best_model, best_depth, best_score"
   ]
  },
  {
   "cell_type": "markdown",
   "metadata": {},
   "source": [
    "Функция создания и обучения оптимальной модели случайного леса. Оптимальная по метрике f1 модель определяется в 2 прохода: сначала ищется оптимальная глубина деревьев, затем - оптимальное число деревьев с найденной глубиной."
   ]
  },
  {
   "cell_type": "code",
   "execution_count": 17,
   "metadata": {},
   "outputs": [],
   "source": [
    "def forest_ml(features_train, target_train, features_valid, target_valid, min_d, max_d, max_trees, balance):\n",
    "    #1 проход - нахождение оптимальной глубины дерева\n",
    "    best_depth = min_d\n",
    "    best_score = 0\n",
    "    best_model = None\n",
    "    weight = None\n",
    "    if balance:\n",
    "        weight = 'balanced'\n",
    "    for depth in range(min_d, max_d + 1, 1):\n",
    "        model = RandomForestClassifier(max_depth = depth, random_state = 12345, class_weight = weight)\n",
    "        model.fit(features_train, target_train)\n",
    "        predicted_valid = model.predict(features_valid)\n",
    "        score = f1_score(target_valid, predicted_valid)\n",
    "        if score > best_score:\n",
    "            best_score = score\n",
    "            best_depth = depth\n",
    "    #2 проход - нахождение оптимального числа деревьев\n",
    "    best_estimators = 1\n",
    "    best_score = 0\n",
    "    for estimators in range(10, max_trees + 1, 1):\n",
    "        model = RandomForestClassifier(n_estimators = estimators, max_depth = best_depth, random_state = 12345, class_weight = weight)\n",
    "        model.fit(features_train, target_train)\n",
    "        predicted_valid = model.predict(features_valid)\n",
    "        score = f1_score(target_valid, predicted_valid)\n",
    "        if score > best_score:\n",
    "            best_score = score\n",
    "            best_estimators = estimators\n",
    "            best_model = model\n",
    "    print('--------------------------------------------')\n",
    "    if balance:\n",
    "        print('Результаты для обучения модели случайного леса с учетом веса классов:')\n",
    "    else:\n",
    "        print('Результаты для обучения модели случайного леса без учета веса классов:')\n",
    "    print('Оптимальная глубина:', best_depth)\n",
    "    print('Оптимальное число деревьев:', best_estimators)\n",
    "    print('Значение метрики f1:', best_score)\n",
    "    predicted_valid = best_model.predict(features_valid)\n",
    "    print('Значение accuracy:', accuracy_score(target_valid, predicted_valid))\n",
    "    predicted_constant = pd.Series([0]*len(predicted_valid))\n",
    "    print('Сравнение с константной моделью:', accuracy_score(target_valid, predicted_constant))\n",
    "    return best_model, best_depth, best_estimators, best_score"
   ]
  },
  {
   "cell_type": "markdown",
   "metadata": {},
   "source": [
    "Функция построения AUC_ROC кривой и вывода значения метрики auc_roc:"
   ]
  },
  {
   "cell_type": "code",
   "execution_count": 18,
   "metadata": {},
   "outputs": [],
   "source": [
    "def auc_roc_curve(features, target, model):\n",
    "    probabilities = model.predict_proba(features)\n",
    "    probabilities_one = probabilities[:, 1]\n",
    "    fpr, tpr, thresholds = roc_curve(target, probabilities_one)\n",
    "    plt.figure()\n",
    "    plt.plot(fpr, tpr)\n",
    "    plt.plot([0, 1], [0, 1], linestyle='--')\n",
    "    plt.ylim([0.0, 1.0])\n",
    "    plt.xlim([0.0, 1.0])\n",
    "    plt.xlabel('False Positive Rate')\n",
    "    plt.ylabel('True Positive Rate')\n",
    "    plt.title('ROC-кривая')\n",
    "    plt.show()\n",
    "    print('Значение auc_roc:', roc_auc_score(target, probabilities_one))"
   ]
  },
  {
   "cell_type": "markdown",
   "metadata": {},
   "source": [
    "Исследование несбалансированной модели логистической регрессии (без учета веса классов на несбалансированных данных):"
   ]
  },
  {
   "cell_type": "code",
   "execution_count": 19,
   "metadata": {
    "scrolled": true
   },
   "outputs": [
    {
     "name": "stdout",
     "output_type": "stream",
     "text": [
      "--------------------------------------------\n",
      "Результаты для обучения модели логистической регрессии без учета веса классов:\n",
      "Значение метрики f1: 0.30400000000000005\n",
      "Значение accuracy: 0.8085808580858086\n",
      "Сравнение с константной моделью: 0.7926292629262927\n"
     ]
    }
   ],
   "source": [
    "logmodel_simple = log_regression_ml(features_train, target_train,features_valid, target_valid, False)"
   ]
  },
  {
   "cell_type": "markdown",
   "metadata": {},
   "source": [
    "Кривая AUC-ROC для несбалансированной модели логистической регрессии:"
   ]
  },
  {
   "cell_type": "code",
   "execution_count": 20,
   "metadata": {
    "scrolled": true
   },
   "outputs": [
    {
     "data": {
      "image/png": "[encoded data removed]",
      "text/plain": [
       "<Figure size 432x288 with 1 Axes>"
      ]
     },
     "metadata": {
      "needs_background": "light"
     },
     "output_type": "display_data"
    },
    {
     "name": "stdout",
     "output_type": "stream",
     "text": [
      "Значение auc_roc: 0.7735418043393828\n"
     ]
    }
   ],
   "source": [
    "auc_roc_curve(features_valid, target_valid, logmodel_simple)"
   ]
  },
  {
   "cell_type": "markdown",
   "metadata": {},
   "source": [
    "Исследование несбалансированной модели случайного дерева:"
   ]
  },
  {
   "cell_type": "code",
   "execution_count": 21,
   "metadata": {},
   "outputs": [
    {
     "name": "stdout",
     "output_type": "stream",
     "text": [
      "--------------------------------------------\n",
      "Результаты для обучения модели случайного дерева без учета веса классов:\n",
      "Оптимальная глубина: 7\n",
      "Значение метрики f1: 0.5764331210191083\n",
      "Значение accuracy: 0.8536853685368537\n",
      "Сравнение с константной моделью: 0.7926292629262927\n"
     ]
    }
   ],
   "source": [
    "tree_model_simple = tree_ml(features_train, target_train, features_valid, target_valid, 1, 50, False)"
   ]
  },
  {
   "cell_type": "markdown",
   "metadata": {},
   "source": [
    "Кривая AUC-ROC для несбалансированной модели случайного дерева:"
   ]
  },
  {
   "cell_type": "code",
   "execution_count": 22,
   "metadata": {},
   "outputs": [
    {
     "data": {
      "image/png": "[encoded data removed]",
      "text/plain": [
       "<Figure size 432x288 with 1 Axes>"
      ]
     },
     "metadata": {
      "needs_background": "light"
     },
     "output_type": "display_data"
    },
    {
     "name": "stdout",
     "output_type": "stream",
     "text": [
      "Значение auc_roc: 0.8346049843812412\n"
     ]
    }
   ],
   "source": [
    "auc_roc_curve(features_valid, target_valid, tree_model_simple[0])"
   ]
  },
  {
   "cell_type": "markdown",
   "metadata": {},
   "source": [
    "Исследование несбалансированной модели случайного леса:"
   ]
  },
  {
   "cell_type": "code",
   "execution_count": 23,
   "metadata": {
    "scrolled": false
   },
   "outputs": [
    {
     "name": "stdout",
     "output_type": "stream",
     "text": [
      "--------------------------------------------\n",
      "Результаты для обучения модели случайного леса без учета веса классов:\n",
      "Оптимальная глубина: 25\n",
      "Оптимальное число деревьев: 13\n",
      "Значение метрики f1: 0.6043613707165109\n",
      "Значение accuracy: 0.8602860286028603\n",
      "Сравнение с константной моделью: 0.7926292629262927\n"
     ]
    }
   ],
   "source": [
    "forest_model_simple = forest_ml(features_train, target_train, features_valid, target_valid, 1, 50, 100, False)"
   ]
  },
  {
   "cell_type": "markdown",
   "metadata": {},
   "source": [
    "Кривая AUC-ROC для несбалансированной модели случайного леса:"
   ]
  },
  {
   "cell_type": "code",
   "execution_count": 24,
   "metadata": {
    "scrolled": true
   },
   "outputs": [
    {
     "data": {
      "image/png": "[encoded data removed]",
      "text/plain": [
       "<Figure size 432x288 with 1 Axes>"
      ]
     },
     "metadata": {
      "needs_background": "light"
     },
     "output_type": "display_data"
    },
    {
     "name": "stdout",
     "output_type": "stream",
     "text": [
      "Значение auc_roc: 0.8391912115260365\n"
     ]
    }
   ],
   "source": [
    "auc_roc_curve(features_valid, target_valid, forest_model_simple[0])"
   ]
  },
  {
   "cell_type": "markdown",
   "metadata": {},
   "source": [
    "Вывод: Значение метрики f1 достаточно низкое для прогноза оттока клиентов банка. Значения accuracy практически совпадают для валидных и константных данных. Требуется обучение модели на сбалансированных данных."
   ]
  },
  {
   "cell_type": "markdown",
   "metadata": {},
   "source": [
    "## Борьба с дисбалансом"
   ]
  },
  {
   "cell_type": "markdown",
   "metadata": {},
   "source": [
    "Исследование наличия дизбаланса:"
   ]
  },
  {
   "cell_type": "code",
   "execution_count": 25,
   "metadata": {
    "scrolled": false
   },
   "outputs": [
    {
     "data": {
      "text/plain": [
       "0    0.796062\n",
       "1    0.203938\n",
       "Name: Exited, dtype: float64"
      ]
     },
     "execution_count": 25,
     "metadata": {},
     "output_type": "execute_result"
    }
   ],
   "source": [
    "data_ohe['Exited'].value_counts(normalize = True)"
   ]
  },
  {
   "cell_type": "code",
   "execution_count": 26,
   "metadata": {},
   "outputs": [
    {
     "data": {
      "text/plain": [
       "0    0.793546\n",
       "1    0.206454\n",
       "Name: Exited, dtype: float64"
      ]
     },
     "execution_count": 26,
     "metadata": {},
     "output_type": "execute_result"
    }
   ],
   "source": [
    "data_train['Exited'].value_counts(normalize = True)"
   ]
  },
  {
   "cell_type": "markdown",
   "metadata": {},
   "source": [
    "Исследование моделей логистической регрессии, случайного дерева и случайного леса с учетом сбалансированных весов классов:"
   ]
  },
  {
   "cell_type": "code",
   "execution_count": 27,
   "metadata": {
    "scrolled": false
   },
   "outputs": [
    {
     "name": "stdout",
     "output_type": "stream",
     "text": [
      "--------------------------------------------\n",
      "Результаты для обучения модели логистической регрессии с учетом веса классов:\n",
      "Значение метрики f1: 0.509731232622799\n",
      "Значение accuracy: 0.7090209020902091\n",
      "Сравнение с константной моделью: 0.7926292629262927\n",
      "--------------------------------------------\n",
      "Результаты для обучения модели случайного дерева с учетом веса классов:\n",
      "Оптимальная глубина: 5\n",
      "Значение метрики f1: 0.5735449735449736\n",
      "Значение accuracy: 0.7783278327832783\n",
      "Сравнение с константной моделью: 0.7926292629262927\n",
      "--------------------------------------------\n",
      "Результаты для обучения модели случайного леса с учетом веса классов:\n",
      "Оптимальная глубина: 9\n",
      "Оптимальное число деревьев: 27\n",
      "Значение метрики f1: 0.654228855721393\n",
      "Значение accuracy: 0.847084708470847\n",
      "Сравнение с константной моделью: 0.7926292629262927\n"
     ]
    }
   ],
   "source": [
    "logmodel_weight_true = log_regression_ml(features_train, target_train,features_valid, target_valid, True)\n",
    "tree_weight_true = tree_ml(features_train, target_train, features_valid, target_valid, 1, 50, True)\n",
    "forest_weight_true = forest_ml(features_train, target_train, features_valid, target_valid, 1, 50, 100, True)"
   ]
  },
  {
   "cell_type": "markdown",
   "metadata": {},
   "source": [
    "Кривая AUC-ROC для модели логистической регрессии с учетом весов классов:"
   ]
  },
  {
   "cell_type": "code",
   "execution_count": 28,
   "metadata": {
    "scrolled": true
   },
   "outputs": [
    {
     "data": {
      "image/png": "[encoded data removed]",
      "text/plain": [
       "<Figure size 432x288 with 1 Axes>"
      ]
     },
     "metadata": {
      "needs_background": "light"
     },
     "output_type": "display_data"
    },
    {
     "name": "stdout",
     "output_type": "stream",
     "text": [
      "Значение auc_roc: 0.7778105022116604\n"
     ]
    }
   ],
   "source": [
    "auc_roc_curve(features_valid, target_valid, logmodel_weight_true)"
   ]
  },
  {
   "cell_type": "markdown",
   "metadata": {},
   "source": [
    "Кривая AUC-ROC для модели случайного дерева с учетом весов классов:"
   ]
  },
  {
   "cell_type": "code",
   "execution_count": 29,
   "metadata": {},
   "outputs": [
    {
     "data": {
      "image/png": "[encoded data removed]",
      "text/plain": [
       "<Figure size 432x288 with 1 Axes>"
      ]
     },
     "metadata": {
      "needs_background": "light"
     },
     "output_type": "display_data"
    },
    {
     "name": "stdout",
     "output_type": "stream",
     "text": [
      "Значение auc_roc: 0.8396523192522141\n"
     ]
    }
   ],
   "source": [
    "auc_roc_curve(features_valid, target_valid, tree_weight_true[0])"
   ]
  },
  {
   "cell_type": "markdown",
   "metadata": {},
   "source": [
    "Кривая AUC-ROC для модели случайного леса с учетом весов классов:"
   ]
  },
  {
   "cell_type": "code",
   "execution_count": 30,
   "metadata": {},
   "outputs": [
    {
     "data": {
      "image/png": "[encoded data removed]",
      "text/plain": [
       "<Figure size 432x288 with 1 Axes>"
      ]
     },
     "metadata": {
      "needs_background": "light"
     },
     "output_type": "display_data"
    },
    {
     "name": "stdout",
     "output_type": "stream",
     "text": [
      "Значение auc_roc: 0.8685833776647148\n"
     ]
    }
   ],
   "source": [
    "auc_roc_curve(features_valid, target_valid, forest_weight_true[0])"
   ]
  },
  {
   "cell_type": "markdown",
   "metadata": {},
   "source": [
    "Вывод: После обучения моделей с учетом баланса классов f1-метрика подросла."
   ]
  },
  {
   "cell_type": "markdown",
   "metadata": {},
   "source": [
    "Обучение моделей на сбалансированных данных."
   ]
  },
  {
   "cell_type": "markdown",
   "metadata": {},
   "source": [
    "Увеличение (upsampled) <u>обучающей выборки</u>:"
   ]
  },
  {
   "cell_type": "code",
   "execution_count": 31,
   "metadata": {},
   "outputs": [
    {
     "name": "stdout",
     "output_type": "stream",
     "text": [
      "<class 'pandas.core.frame.DataFrame'>\n",
      "Int64Index: 8832 entries, 3655 to 6273\n",
      "Data columns (total 12 columns):\n",
      " #   Column             Non-Null Count  Dtype  \n",
      "---  ------             --------------  -----  \n",
      " 0   CreditScore        8832 non-null   float64\n",
      " 1   Age                8832 non-null   float64\n",
      " 2   Tenure             8832 non-null   float64\n",
      " 3   Balance            8832 non-null   float64\n",
      " 4   NumOfProducts      8832 non-null   int64  \n",
      " 5   HasCrCard          8832 non-null   int64  \n",
      " 6   IsActiveMember     8832 non-null   int64  \n",
      " 7   EstimatedSalary    8832 non-null   float64\n",
      " 8   Exited             8832 non-null   int64  \n",
      " 9   Geography_Germany  8832 non-null   uint8  \n",
      " 10  Geography_Spain    8832 non-null   uint8  \n",
      " 11  Gender_Male        8832 non-null   uint8  \n",
      "dtypes: float64(5), int64(4), uint8(3)\n",
      "memory usage: 715.9 KB\n",
      "None\n"
     ]
    }
   ],
   "source": [
    "zeros = data_train[data_train['Exited'] == 0]\n",
    "ones = data_train[data_train['Exited'] == 1]\n",
    "repeat = 4\n",
    "data_train_upsampled = pd.concat([zeros] + [ones] * repeat)\n",
    "data_train_upsampled = shuffle(data_train_upsampled, random_state = 12345)\n",
    "print(data_train_upsampled.info())"
   ]
  },
  {
   "cell_type": "markdown",
   "metadata": {},
   "source": [
    "После увеличения данные можно считать сбалансированными (соотношение классов ~ 1:1)"
   ]
  },
  {
   "cell_type": "code",
   "execution_count": 32,
   "metadata": {
    "scrolled": true
   },
   "outputs": [
    {
     "data": {
      "text/plain": [
       "1    0.509964\n",
       "0    0.490036\n",
       "Name: Exited, dtype: float64"
      ]
     },
     "execution_count": 32,
     "metadata": {},
     "output_type": "execute_result"
    }
   ],
   "source": [
    "data_train_upsampled['Exited'].value_counts(normalize = True)"
   ]
  },
  {
   "cell_type": "markdown",
   "metadata": {},
   "source": [
    "Подготовка обучающей выборки (разделение на обучающую и целевую):"
   ]
  },
  {
   "cell_type": "code",
   "execution_count": 33,
   "metadata": {},
   "outputs": [],
   "source": [
    "features_train_upsampled = data_train_upsampled.drop('Exited', axis = 1)\n",
    "target_train_upsampled = data_train_upsampled['Exited']"
   ]
  },
  {
   "cell_type": "markdown",
   "metadata": {},
   "source": [
    "Исследование моделей логистической регрессии, случайного дерева и случайного леса на сбалансированных данных:"
   ]
  },
  {
   "cell_type": "code",
   "execution_count": 34,
   "metadata": {
    "scrolled": false
   },
   "outputs": [
    {
     "name": "stdout",
     "output_type": "stream",
     "text": [
      "--------------------------------------------\n",
      "Результаты для обучения модели логистической регрессии с учетом веса классов:\n",
      "Значение метрики f1: 0.509731232622799\n",
      "Значение accuracy: 0.7090209020902091\n",
      "Сравнение с константной моделью: 0.7926292629262927\n",
      "--------------------------------------------\n",
      "Результаты для обучения модели случайного дерева с учетом веса классов:\n",
      "Оптимальная глубина: 5\n",
      "Значение метрики f1: 0.5735449735449736\n",
      "Значение accuracy: 0.7783278327832783\n",
      "Сравнение с константной моделью: 0.7926292629262927\n",
      "--------------------------------------------\n",
      "Результаты для обучения модели случайного леса с учетом веса классов:\n",
      "Оптимальная глубина: 9\n",
      "Оптимальное число деревьев: 67\n",
      "Значение метрики f1: 0.6358381502890174\n",
      "Значение accuracy: 0.8267326732673267\n",
      "Сравнение с константной моделью: 0.7926292629262927\n"
     ]
    }
   ],
   "source": [
    "logmodel_balanced_true = log_regression_ml(features_train_upsampled, target_train_upsampled,features_valid, target_valid, True)\n",
    "tree_balanced_true = tree_ml(features_train_upsampled, target_train_upsampled, features_valid, target_valid, 1, 50, True)\n",
    "forest_balanced_true = forest_ml(features_train_upsampled, target_train_upsampled, features_valid, target_valid, 1, 50, 100, True)"
   ]
  },
  {
   "cell_type": "markdown",
   "metadata": {},
   "source": [
    "Кривая AUC-ROC для модели логистической регрессии на сбалансированных данных:"
   ]
  },
  {
   "cell_type": "code",
   "execution_count": 35,
   "metadata": {},
   "outputs": [
    {
     "data": {
      "image/png": "[encoded data removed]",
      "text/plain": [
       "<Figure size 432x288 with 1 Axes>"
      ]
     },
     "metadata": {
      "needs_background": "light"
     },
     "output_type": "display_data"
    },
    {
     "name": "stdout",
     "output_type": "stream",
     "text": [
      "Значение auc_roc: 0.7777865724693838\n"
     ]
    }
   ],
   "source": [
    "auc_roc_curve(features_valid, target_valid, logmodel_balanced_true)"
   ]
  },
  {
   "cell_type": "markdown",
   "metadata": {},
   "source": [
    "Кривая AUC-ROC для модели случайного дерева на сбалансированных данных:"
   ]
  },
  {
   "cell_type": "code",
   "execution_count": 36,
   "metadata": {},
   "outputs": [
    {
     "data": {
      "image/png": "[encoded data removed]",
      "text/plain": [
       "<Figure size 432x288 with 1 Axes>"
      ]
     },
     "metadata": {
      "needs_background": "light"
     },
     "output_type": "display_data"
    },
    {
     "name": "stdout",
     "output_type": "stream",
     "text": [
      "Значение auc_roc: 0.8396523192522141\n"
     ]
    }
   ],
   "source": [
    "auc_roc_curve(features_valid, target_valid, tree_balanced_true[0])"
   ]
  },
  {
   "cell_type": "markdown",
   "metadata": {},
   "source": [
    "Кривая AUC-ROC для модели случайного леса на сбалансированных данных:"
   ]
  },
  {
   "cell_type": "code",
   "execution_count": 37,
   "metadata": {
    "scrolled": true
   },
   "outputs": [
    {
     "data": {
      "image/png": "[encoded data removed]",
      "text/plain": [
       "<Figure size 432x288 with 1 Axes>"
      ]
     },
     "metadata": {
      "needs_background": "light"
     },
     "output_type": "display_data"
    },
    {
     "name": "stdout",
     "output_type": "stream",
     "text": [
      "Значение auc_roc: 0.8699823472131974\n"
     ]
    }
   ],
   "source": [
    "auc_roc_curve(features_valid, target_valid, forest_balanced_true[0])"
   ]
  },
  {
   "cell_type": "markdown",
   "metadata": {},
   "source": [
    "<p>Тестирование модели на сбалансированных (upsampled) данных позволило достаточно хорошо обучить модели классификации, прогнозирующие возможность оттока клиентов банка. При этом наилучшие результаты (метрика f1) показала модель случайного леса с максимальной глубиной дерева 9 и числом деревьев 67. Значение метрики f1 при этом достигает 0.64. Значение метрики auc_roc .87. Значение accuracy также достигло .83.</p>\n",
    "<p><b>Вывод:в качесве прогнозирующей модели классификации используем модель случайного леса с глубиной дерева 9 и числом деревьев 67, обученную на сбалансированных (upsampled) данных. Значение метрики f1 данной модели равно .64, auc_roc=.87</b></p>"
   ]
  },
  {
   "cell_type": "markdown",
   "metadata": {},
   "source": [
    "## Тестирование модели"
   ]
  },
  {
   "cell_type": "markdown",
   "metadata": {},
   "source": [
    "Проверка модели, выигравшей конкурс (случайный лес, max глубина 9, деревья = 67), на тестовых данных:"
   ]
  },
  {
   "cell_type": "code",
   "execution_count": 38,
   "metadata": {},
   "outputs": [
    {
     "name": "stdout",
     "output_type": "stream",
     "text": [
      "Оптимальная глубина: 9\n",
      "Оптимальное число деревьев: 67\n",
      "Значение метрики f1: 0.5821256038647344\n",
      "Значение accuracy: 0.8097855964815833\n",
      "Сравнение с константной моделью: 0.8070368334249588\n"
     ]
    }
   ],
   "source": [
    "predicted_test = forest_balanced_true[0].predict(features_test)\n",
    "print('Оптимальная глубина:', forest_balanced_true[1])\n",
    "print('Оптимальное число деревьев:', forest_balanced_true[2])\n",
    "print('Значение метрики f1:', f1_score(target_test, predicted_test))\n",
    "print('Значение accuracy:', accuracy_score(target_test, predicted_test))\n",
    "predicted_constant = pd.Series([0]*len(predicted_test))\n",
    "print('Сравнение с константной моделью:', accuracy_score(target_test, predicted_constant))"
   ]
  },
  {
   "cell_type": "markdown",
   "metadata": {},
   "source": [
    "Постороение кривой AUC-ROC для модели случайного леса на тестовых данных:"
   ]
  },
  {
   "cell_type": "code",
   "execution_count": 39,
   "metadata": {
    "scrolled": true
   },
   "outputs": [
    {
     "data": {
      "image/png": "[encoded data removed]",
      "text/plain": [
       "<Figure size 432x288 with 1 Axes>"
      ]
     },
     "metadata": {
      "needs_background": "light"
     },
     "output_type": "display_data"
    },
    {
     "name": "stdout",
     "output_type": "stream",
     "text": [
      "Значение auc_roc: 0.8580660937609167\n"
     ]
    }
   ],
   "source": [
    "auc_roc_curve(features_test, target_test, forest_balanced_true[0])"
   ]
  },
  {
   "cell_type": "markdown",
   "metadata": {},
   "source": [
    "построение модели случайного леса с другими гиперпараметрами:"
   ]
  },
  {
   "cell_type": "code",
   "execution_count": 43,
   "metadata": {},
   "outputs": [
    {
     "name": "stdout",
     "output_type": "stream",
     "text": [
      "Значение метрики f1: 0.5467625899280576\n",
      "Значение accuracy: 0.8614623419461243\n",
      "Сравнение с константной моделью: 0.8070368334249588\n"
     ]
    }
   ],
   "source": [
    "model = RandomForestClassifier(max_depth = 13, n_estimators = 52, random_state = 12345, class_weight = 'balanced')\n",
    "model.fit(features_valid, target_valid)\n",
    "predicted_test = model.predict(features_test)\n",
    "print('Значение метрики f1:', f1_score(target_test, predicted_test))\n",
    "print('Значение accuracy:', accuracy_score(target_test, predicted_test))\n",
    "predicted_constant = pd.Series([0]*len(predicted_test))\n",
    "print('Сравнение с константной моделью:', accuracy_score(target_test, predicted_constant))"
   ]
  },
  {
   "cell_type": "markdown",
   "metadata": {},
   "source": [
    "Постороение кривой AUC-ROC для модели случайного леса на тестовых данных:"
   ]
  },
  {
   "cell_type": "code",
   "execution_count": 44,
   "metadata": {},
   "outputs": [
    {
     "data": {
      "image/png": "[encoded data removed]",
      "text/plain": [
       "<Figure size 432x288 with 1 Axes>"
      ]
     },
     "metadata": {
      "needs_background": "light"
     },
     "output_type": "display_data"
    },
    {
     "name": "stdout",
     "output_type": "stream",
     "text": [
      "Значение auc_roc: 0.832937422855679\n"
     ]
    }
   ],
   "source": [
    "auc_roc_curve(features_test, target_test, model)"
   ]
  }
 ],
 "metadata": {
  "ExecuteTimeLog": [
   {
    "duration": 582,
    "start_time": "2022-01-31T18:13:59.330Z"
   },
   {
    "duration": 242,
    "start_time": "2022-01-31T18:14:36.629Z"
   },
   {
    "duration": 28,
    "start_time": "2022-01-31T18:14:45.316Z"
   },
   {
    "duration": 19,
    "start_time": "2022-01-31T18:14:47.123Z"
   },
   {
    "duration": 10,
    "start_time": "2022-01-31T18:15:06.756Z"
   },
   {
    "duration": 43,
    "start_time": "2022-01-31T18:16:04.660Z"
   },
   {
    "duration": 236,
    "start_time": "2022-01-31T18:17:27.490Z"
   },
   {
    "duration": 182,
    "start_time": "2022-01-31T18:17:40.154Z"
   },
   {
    "duration": 5,
    "start_time": "2022-01-31T18:21:24.791Z"
   },
   {
    "duration": 7,
    "start_time": "2022-01-31T18:22:09.430Z"
   },
   {
    "duration": 453,
    "start_time": "2022-01-31T18:24:18.292Z"
   },
   {
    "duration": 205,
    "start_time": "2022-01-31T18:24:55.995Z"
   },
   {
    "duration": 6,
    "start_time": "2022-01-31T18:29:05.848Z"
   },
   {
    "duration": 17,
    "start_time": "2022-01-31T18:29:27.167Z"
   },
   {
    "duration": 7,
    "start_time": "2022-01-31T18:34:35.778Z"
   },
   {
    "duration": 3,
    "start_time": "2022-01-31T18:35:10.626Z"
   },
   {
    "duration": 259,
    "start_time": "2022-01-31T18:35:33.624Z"
   },
   {
    "duration": 206,
    "start_time": "2022-01-31T18:46:06.878Z"
   },
   {
    "duration": 18,
    "start_time": "2022-01-31T18:46:18.894Z"
   },
   {
    "duration": 169,
    "start_time": "2022-01-31T18:46:52.181Z"
   },
   {
    "duration": 6,
    "start_time": "2022-01-31T18:47:41.005Z"
   },
   {
    "duration": 7,
    "start_time": "2022-01-31T18:47:44.029Z"
   },
   {
    "duration": 12,
    "start_time": "2022-01-31T18:50:14.562Z"
   },
   {
    "duration": 11,
    "start_time": "2022-01-31T18:50:25.490Z"
   },
   {
    "duration": 18,
    "start_time": "2022-01-31T18:50:28.354Z"
   },
   {
    "duration": 13,
    "start_time": "2022-01-31T18:51:03.049Z"
   },
   {
    "duration": 11,
    "start_time": "2022-01-31T18:51:05.697Z"
   },
   {
    "duration": 7,
    "start_time": "2022-01-31T18:51:20.537Z"
   },
   {
    "duration": 6,
    "start_time": "2022-01-31T18:51:23.616Z"
   },
   {
    "duration": 6,
    "start_time": "2022-01-31T18:51:28.625Z"
   },
   {
    "duration": 214,
    "start_time": "2022-01-31T18:51:32.713Z"
   },
   {
    "duration": 6,
    "start_time": "2022-01-31T19:09:49.495Z"
   },
   {
    "duration": 186,
    "start_time": "2022-01-31T19:11:52.445Z"
   },
   {
    "duration": 3,
    "start_time": "2022-01-31T19:12:39.356Z"
   },
   {
    "duration": 32,
    "start_time": "2022-01-31T19:12:42.020Z"
   },
   {
    "duration": 17,
    "start_time": "2022-01-31T19:12:44.387Z"
   },
   {
    "duration": 8,
    "start_time": "2022-01-31T19:12:47.132Z"
   },
   {
    "duration": 8,
    "start_time": "2022-01-31T19:12:50.076Z"
   },
   {
    "duration": 42,
    "start_time": "2022-01-31T19:12:52.804Z"
   },
   {
    "duration": 10,
    "start_time": "2022-01-31T19:12:56.460Z"
   },
   {
    "duration": 11,
    "start_time": "2022-01-31T19:12:58.404Z"
   },
   {
    "duration": 217,
    "start_time": "2022-01-31T19:13:01.060Z"
   },
   {
    "duration": 16,
    "start_time": "2022-01-31T19:15:29.386Z"
   },
   {
    "duration": 195,
    "start_time": "2022-01-31T19:16:01.714Z"
   },
   {
    "duration": 4573,
    "start_time": "2022-01-31T19:17:41.676Z"
   },
   {
    "duration": 7,
    "start_time": "2022-01-31T19:17:54.224Z"
   },
   {
    "duration": 183,
    "start_time": "2022-01-31T19:18:10.408Z"
   },
   {
    "duration": 4,
    "start_time": "2022-01-31T19:18:27.080Z"
   },
   {
    "duration": 5,
    "start_time": "2022-01-31T19:18:29.798Z"
   },
   {
    "duration": 7,
    "start_time": "2022-01-31T19:18:39.520Z"
   },
   {
    "duration": 2,
    "start_time": "2022-01-31T19:23:42.987Z"
   },
   {
    "duration": 30,
    "start_time": "2022-01-31T19:24:11.250Z"
   },
   {
    "duration": 17,
    "start_time": "2022-01-31T19:24:30.713Z"
   },
   {
    "duration": 16,
    "start_time": "2022-01-31T19:24:42.337Z"
   },
   {
    "duration": 5,
    "start_time": "2022-01-31T19:30:01.428Z"
   },
   {
    "duration": 196,
    "start_time": "2022-01-31T19:30:06.156Z"
   },
   {
    "duration": 4,
    "start_time": "2022-01-31T19:30:12.645Z"
   },
   {
    "duration": 5,
    "start_time": "2022-01-31T19:30:26.202Z"
   },
   {
    "duration": 5,
    "start_time": "2022-01-31T19:30:31.372Z"
   },
   {
    "duration": 295,
    "start_time": "2022-02-01T13:12:25.643Z"
   },
   {
    "duration": 255,
    "start_time": "2022-02-01T13:13:19.229Z"
   },
   {
    "duration": 1060,
    "start_time": "2022-02-01T13:13:28.372Z"
   },
   {
    "duration": 33,
    "start_time": "2022-02-01T13:13:31.947Z"
   },
   {
    "duration": 24,
    "start_time": "2022-02-01T13:13:35.491Z"
   },
   {
    "duration": 12,
    "start_time": "2022-02-01T13:13:38.796Z"
   },
   {
    "duration": 40,
    "start_time": "2022-02-01T13:13:41.908Z"
   },
   {
    "duration": 320,
    "start_time": "2022-02-01T13:13:45.092Z"
   },
   {
    "duration": 5,
    "start_time": "2022-02-01T13:14:05.348Z"
   },
   {
    "duration": 12,
    "start_time": "2022-02-01T13:14:27.603Z"
   },
   {
    "duration": 16,
    "start_time": "2022-02-01T13:14:30.260Z"
   },
   {
    "duration": 337,
    "start_time": "2022-02-01T13:14:33.683Z"
   },
   {
    "duration": 1163,
    "start_time": "2022-02-01T15:49:04.393Z"
   },
   {
    "duration": 33,
    "start_time": "2022-02-01T15:49:05.559Z"
   },
   {
    "duration": 30,
    "start_time": "2022-02-01T15:49:05.594Z"
   },
   {
    "duration": 15,
    "start_time": "2022-02-01T15:49:05.627Z"
   },
   {
    "duration": 46,
    "start_time": "2022-02-01T15:49:05.645Z"
   },
   {
    "duration": 5,
    "start_time": "2022-02-01T15:49:05.693Z"
   },
   {
    "duration": 9,
    "start_time": "2022-02-01T15:49:05.700Z"
   },
   {
    "duration": 11,
    "start_time": "2022-02-01T15:49:05.720Z"
   },
   {
    "duration": 217,
    "start_time": "2022-02-01T15:49:05.733Z"
   },
   {
    "duration": 173,
    "start_time": "2022-02-01T15:50:59.614Z"
   },
   {
    "duration": 1477,
    "start_time": "2022-02-01T15:51:43.189Z"
   },
   {
    "duration": 34,
    "start_time": "2022-02-01T15:51:44.669Z"
   },
   {
    "duration": 24,
    "start_time": "2022-02-01T15:51:44.705Z"
   },
   {
    "duration": 12,
    "start_time": "2022-02-01T15:51:44.731Z"
   },
   {
    "duration": 41,
    "start_time": "2022-02-01T15:51:44.746Z"
   },
   {
    "duration": 4,
    "start_time": "2022-02-01T15:51:44.789Z"
   },
   {
    "duration": 2,
    "start_time": "2022-02-01T15:51:44.819Z"
   },
   {
    "duration": 7,
    "start_time": "2022-02-01T15:51:44.824Z"
   },
   {
    "duration": 17,
    "start_time": "2022-02-01T15:51:44.833Z"
   },
   {
    "duration": 9,
    "start_time": "2022-02-01T15:51:44.851Z"
   },
   {
    "duration": 6,
    "start_time": "2022-02-01T15:59:02.462Z"
   },
   {
    "duration": 7,
    "start_time": "2022-02-01T15:59:05.164Z"
   },
   {
    "duration": 363,
    "start_time": "2022-02-01T15:59:07.845Z"
   },
   {
    "duration": 279,
    "start_time": "2022-02-01T16:00:57.236Z"
   },
   {
    "duration": 9,
    "start_time": "2022-02-01T16:02:02.107Z"
   },
   {
    "duration": -109,
    "start_time": "2022-02-01T16:02:22.815Z"
   },
   {
    "duration": 10,
    "start_time": "2022-02-01T16:03:04.778Z"
   },
   {
    "duration": 260,
    "start_time": "2022-02-01T16:03:52.145Z"
   },
   {
    "duration": 256,
    "start_time": "2022-02-01T16:04:43.449Z"
   },
   {
    "duration": 5,
    "start_time": "2022-02-01T16:05:51.503Z"
   },
   {
    "duration": 6,
    "start_time": "2022-02-01T16:06:03.503Z"
   },
   {
    "duration": 79,
    "start_time": "2022-02-01T16:06:27.903Z"
   },
   {
    "duration": 29,
    "start_time": "2022-02-01T16:06:32.487Z"
   },
   {
    "duration": 17,
    "start_time": "2022-02-01T16:06:51.583Z"
   },
   {
    "duration": 24,
    "start_time": "2022-02-01T16:07:00.814Z"
   },
   {
    "duration": 19,
    "start_time": "2022-02-01T16:07:52.215Z"
   },
   {
    "duration": 7,
    "start_time": "2022-02-01T16:08:34.493Z"
   },
   {
    "duration": 4,
    "start_time": "2022-02-01T16:09:01.268Z"
   },
   {
    "duration": 29,
    "start_time": "2022-02-01T16:09:03.629Z"
   },
   {
    "duration": 18,
    "start_time": "2022-02-01T16:09:05.636Z"
   },
   {
    "duration": 236,
    "start_time": "2022-02-01T16:09:57.028Z"
   },
   {
    "duration": 5,
    "start_time": "2022-02-01T16:10:00.963Z"
   },
   {
    "duration": 32,
    "start_time": "2022-02-01T16:11:15.017Z"
   },
   {
    "duration": 6,
    "start_time": "2022-02-01T16:11:27.907Z"
   },
   {
    "duration": 6,
    "start_time": "2022-02-01T16:12:27.673Z"
   },
   {
    "duration": 6,
    "start_time": "2022-02-01T16:13:03.009Z"
   },
   {
    "duration": 7,
    "start_time": "2022-02-01T16:13:09.145Z"
   },
   {
    "duration": 9,
    "start_time": "2022-02-01T16:13:14.648Z"
   },
   {
    "duration": 1093,
    "start_time": "2022-02-01T16:13:23.392Z"
   },
   {
    "duration": 31,
    "start_time": "2022-02-01T16:13:24.487Z"
   },
   {
    "duration": 20,
    "start_time": "2022-02-01T16:13:24.522Z"
   },
   {
    "duration": 20,
    "start_time": "2022-02-01T16:13:24.544Z"
   },
   {
    "duration": 18,
    "start_time": "2022-02-01T16:13:24.566Z"
   },
   {
    "duration": 22,
    "start_time": "2022-02-01T16:13:24.585Z"
   },
   {
    "duration": 53,
    "start_time": "2022-02-01T16:13:24.609Z"
   },
   {
    "duration": 4,
    "start_time": "2022-02-01T16:13:24.664Z"
   },
   {
    "duration": 15,
    "start_time": "2022-02-01T16:13:24.669Z"
   },
   {
    "duration": 24,
    "start_time": "2022-02-01T16:13:24.685Z"
   },
   {
    "duration": 28,
    "start_time": "2022-02-01T16:13:24.711Z"
   },
   {
    "duration": 8,
    "start_time": "2022-02-01T16:13:24.741Z"
   },
   {
    "duration": 9,
    "start_time": "2022-02-01T16:13:24.751Z"
   },
   {
    "duration": 13,
    "start_time": "2022-02-01T16:13:24.761Z"
   },
   {
    "duration": 24,
    "start_time": "2022-02-01T16:13:24.776Z"
   },
   {
    "duration": 97,
    "start_time": "2022-02-01T16:18:37.051Z"
   },
   {
    "duration": 426,
    "start_time": "2022-02-01T16:18:49.178Z"
   },
   {
    "duration": 12,
    "start_time": "2022-02-01T16:20:07.546Z"
   },
   {
    "duration": 7,
    "start_time": "2022-02-01T16:20:17.962Z"
   },
   {
    "duration": 1091,
    "start_time": "2022-02-01T16:20:26.661Z"
   },
   {
    "duration": 30,
    "start_time": "2022-02-01T16:20:27.754Z"
   },
   {
    "duration": 22,
    "start_time": "2022-02-01T16:20:27.786Z"
   },
   {
    "duration": 2,
    "start_time": "2022-02-01T16:20:27.810Z"
   },
   {
    "duration": 14,
    "start_time": "2022-02-01T16:20:27.814Z"
   },
   {
    "duration": 7,
    "start_time": "2022-02-01T16:20:27.829Z"
   },
   {
    "duration": 11,
    "start_time": "2022-02-01T16:20:27.837Z"
   },
   {
    "duration": 84,
    "start_time": "2022-02-01T16:20:27.852Z"
   },
   {
    "duration": 6,
    "start_time": "2022-02-01T16:20:27.938Z"
   },
   {
    "duration": 9,
    "start_time": "2022-02-01T16:20:27.946Z"
   },
   {
    "duration": 4,
    "start_time": "2022-02-01T16:20:27.957Z"
   },
   {
    "duration": 25,
    "start_time": "2022-02-01T16:20:27.963Z"
   },
   {
    "duration": 10,
    "start_time": "2022-02-01T16:20:27.990Z"
   },
   {
    "duration": 21,
    "start_time": "2022-02-01T16:20:28.002Z"
   },
   {
    "duration": 7,
    "start_time": "2022-02-01T16:20:28.026Z"
   },
   {
    "duration": 389,
    "start_time": "2022-02-01T16:20:28.035Z"
   },
   {
    "duration": 27,
    "start_time": "2022-02-01T16:21:00.340Z"
   },
   {
    "duration": 1107,
    "start_time": "2022-02-01T16:21:14.980Z"
   },
   {
    "duration": 32,
    "start_time": "2022-02-01T16:21:16.090Z"
   },
   {
    "duration": 23,
    "start_time": "2022-02-01T16:21:16.125Z"
   },
   {
    "duration": 8,
    "start_time": "2022-02-01T16:21:16.151Z"
   },
   {
    "duration": 29,
    "start_time": "2022-02-01T16:21:16.161Z"
   },
   {
    "duration": 8,
    "start_time": "2022-02-01T16:21:16.192Z"
   },
   {
    "duration": 24,
    "start_time": "2022-02-01T16:21:16.202Z"
   },
   {
    "duration": 45,
    "start_time": "2022-02-01T16:21:16.229Z"
   },
   {
    "duration": 4,
    "start_time": "2022-02-01T16:21:16.277Z"
   },
   {
    "duration": 13,
    "start_time": "2022-02-01T16:21:16.283Z"
   },
   {
    "duration": 6,
    "start_time": "2022-02-01T16:21:16.298Z"
   },
   {
    "duration": 18,
    "start_time": "2022-02-01T16:21:16.319Z"
   },
   {
    "duration": 9,
    "start_time": "2022-02-01T16:21:16.339Z"
   },
   {
    "duration": 5,
    "start_time": "2022-02-01T16:21:16.350Z"
   },
   {
    "duration": 14,
    "start_time": "2022-02-01T16:21:16.357Z"
   },
   {
    "duration": 408,
    "start_time": "2022-02-01T16:21:16.373Z"
   },
   {
    "duration": 1101,
    "start_time": "2022-02-01T16:22:53.663Z"
   },
   {
    "duration": 32,
    "start_time": "2022-02-01T16:22:54.767Z"
   },
   {
    "duration": 43,
    "start_time": "2022-02-01T16:22:54.804Z"
   },
   {
    "duration": 7,
    "start_time": "2022-02-01T16:22:54.850Z"
   },
   {
    "duration": 17,
    "start_time": "2022-02-01T16:22:54.859Z"
   },
   {
    "duration": 8,
    "start_time": "2022-02-01T16:22:54.879Z"
   },
   {
    "duration": 33,
    "start_time": "2022-02-01T16:22:54.891Z"
   },
   {
    "duration": 77,
    "start_time": "2022-02-01T16:22:54.927Z"
   },
   {
    "duration": 6,
    "start_time": "2022-02-01T16:22:55.006Z"
   },
   {
    "duration": 8,
    "start_time": "2022-02-01T16:22:55.014Z"
   },
   {
    "duration": 7,
    "start_time": "2022-02-01T16:22:55.024Z"
   },
   {
    "duration": 24,
    "start_time": "2022-02-01T16:22:55.033Z"
   },
   {
    "duration": 29,
    "start_time": "2022-02-01T16:22:55.060Z"
   },
   {
    "duration": 8,
    "start_time": "2022-02-01T16:22:55.099Z"
   },
   {
    "duration": 16,
    "start_time": "2022-02-01T16:22:55.109Z"
   },
   {
    "duration": 39,
    "start_time": "2022-02-01T16:22:55.127Z"
   },
   {
    "duration": 8,
    "start_time": "2022-02-01T16:25:09.980Z"
   },
   {
    "duration": 1195,
    "start_time": "2022-02-01T16:25:25.148Z"
   },
   {
    "duration": 32,
    "start_time": "2022-02-01T16:25:26.346Z"
   },
   {
    "duration": 25,
    "start_time": "2022-02-01T16:25:26.381Z"
   },
   {
    "duration": 9,
    "start_time": "2022-02-01T16:25:26.408Z"
   },
   {
    "duration": 24,
    "start_time": "2022-02-01T16:25:26.419Z"
   },
   {
    "duration": 6,
    "start_time": "2022-02-01T16:25:26.445Z"
   },
   {
    "duration": 17,
    "start_time": "2022-02-01T16:25:26.452Z"
   },
   {
    "duration": 77,
    "start_time": "2022-02-01T16:25:26.472Z"
   },
   {
    "duration": 5,
    "start_time": "2022-02-01T16:25:26.552Z"
   },
   {
    "duration": 20,
    "start_time": "2022-02-01T16:25:26.559Z"
   },
   {
    "duration": 10,
    "start_time": "2022-02-01T16:25:26.581Z"
   },
   {
    "duration": 27,
    "start_time": "2022-02-01T16:25:26.592Z"
   },
   {
    "duration": 12,
    "start_time": "2022-02-01T16:25:26.621Z"
   },
   {
    "duration": 30,
    "start_time": "2022-02-01T16:25:26.636Z"
   },
   {
    "duration": 1110,
    "start_time": "2022-02-01T16:31:46.631Z"
   },
   {
    "duration": 32,
    "start_time": "2022-02-01T16:31:47.744Z"
   },
   {
    "duration": 24,
    "start_time": "2022-02-01T16:31:47.779Z"
   },
   {
    "duration": 33,
    "start_time": "2022-02-01T16:31:47.805Z"
   },
   {
    "duration": 6,
    "start_time": "2022-02-01T16:31:47.840Z"
   },
   {
    "duration": 11,
    "start_time": "2022-02-01T16:31:47.848Z"
   },
   {
    "duration": 68,
    "start_time": "2022-02-01T16:31:47.861Z"
   },
   {
    "duration": 4,
    "start_time": "2022-02-01T16:31:47.932Z"
   },
   {
    "duration": 22,
    "start_time": "2022-02-01T16:31:47.938Z"
   },
   {
    "duration": 13,
    "start_time": "2022-02-01T16:31:47.962Z"
   },
   {
    "duration": 8,
    "start_time": "2022-02-01T16:31:47.977Z"
   },
   {
    "duration": 11,
    "start_time": "2022-02-01T16:31:47.987Z"
   },
   {
    "duration": 44,
    "start_time": "2022-02-01T16:31:48.000Z"
   },
   {
    "duration": 5,
    "start_time": "2022-02-01T16:34:42.726Z"
   },
   {
    "duration": 16,
    "start_time": "2022-02-01T16:34:54.525Z"
   },
   {
    "duration": 6,
    "start_time": "2022-02-01T16:35:02.767Z"
   },
   {
    "duration": 4,
    "start_time": "2022-02-01T16:39:51.146Z"
   },
   {
    "duration": 51,
    "start_time": "2022-02-01T16:42:05.072Z"
   },
   {
    "duration": 1179,
    "start_time": "2022-02-01T16:42:19.426Z"
   },
   {
    "duration": 32,
    "start_time": "2022-02-01T16:42:20.607Z"
   },
   {
    "duration": 22,
    "start_time": "2022-02-01T16:42:20.641Z"
   },
   {
    "duration": 38,
    "start_time": "2022-02-01T16:42:20.665Z"
   },
   {
    "duration": 16,
    "start_time": "2022-02-01T16:42:20.705Z"
   },
   {
    "duration": 7,
    "start_time": "2022-02-01T16:42:20.723Z"
   },
   {
    "duration": 13,
    "start_time": "2022-02-01T16:42:20.732Z"
   },
   {
    "duration": 77,
    "start_time": "2022-02-01T16:42:20.748Z"
   },
   {
    "duration": 6,
    "start_time": "2022-02-01T16:42:20.827Z"
   },
   {
    "duration": 25,
    "start_time": "2022-02-01T16:42:20.835Z"
   },
   {
    "duration": 9,
    "start_time": "2022-02-01T16:42:20.862Z"
   },
   {
    "duration": 7,
    "start_time": "2022-02-01T16:42:20.873Z"
   },
   {
    "duration": 13,
    "start_time": "2022-02-01T16:42:20.882Z"
   },
   {
    "duration": 123,
    "start_time": "2022-02-01T16:42:20.897Z"
   },
   {
    "duration": 100,
    "start_time": "2022-02-01T16:43:12.631Z"
   },
   {
    "duration": 30,
    "start_time": "2022-02-01T16:43:25.751Z"
   },
   {
    "duration": 23,
    "start_time": "2022-02-01T16:43:30.911Z"
   },
   {
    "duration": 173,
    "start_time": "2022-02-01T16:43:37.446Z"
   },
   {
    "duration": 346,
    "start_time": "2022-02-01T16:45:33.421Z"
   },
   {
    "duration": 244,
    "start_time": "2022-02-01T16:48:04.810Z"
   },
   {
    "duration": 23,
    "start_time": "2022-02-01T16:48:39.546Z"
   },
   {
    "duration": 542,
    "start_time": "2022-02-01T16:48:46.178Z"
   },
   {
    "duration": 813,
    "start_time": "2022-02-01T16:48:56.321Z"
   },
   {
    "duration": 789,
    "start_time": "2022-02-01T16:49:45.472Z"
   },
   {
    "duration": 2857,
    "start_time": "2022-02-01T16:53:16.237Z"
   },
   {
    "duration": 35564,
    "start_time": "2022-02-01T16:55:08.347Z"
   },
   {
    "duration": 118,
    "start_time": "2022-02-01T16:56:59.025Z"
   },
   {
    "duration": 192,
    "start_time": "2022-02-01T16:57:06.089Z"
   },
   {
    "duration": 257,
    "start_time": "2022-02-01T17:06:23.896Z"
   },
   {
    "duration": 3,
    "start_time": "2022-02-01T17:06:38.888Z"
   },
   {
    "duration": 37,
    "start_time": "2022-02-01T17:06:52.456Z"
   },
   {
    "duration": 44,
    "start_time": "2022-02-01T17:07:03.135Z"
   },
   {
    "duration": 44,
    "start_time": "2022-02-01T17:07:08.367Z"
   },
   {
    "duration": 29,
    "start_time": "2022-02-01T17:07:12.729Z"
   },
   {
    "duration": 1926,
    "start_time": "2022-02-01T17:10:32.012Z"
   },
   {
    "duration": 9,
    "start_time": "2022-02-01T17:40:17.097Z"
   },
   {
    "duration": 16,
    "start_time": "2022-02-01T17:40:45.512Z"
   },
   {
    "duration": 262,
    "start_time": "2022-02-01T19:47:22.769Z"
   },
   {
    "duration": 290,
    "start_time": "2022-02-02T18:19:22.644Z"
   },
   {
    "duration": 1124,
    "start_time": "2022-02-02T18:19:31.532Z"
   },
   {
    "duration": 29,
    "start_time": "2022-02-02T18:19:32.658Z"
   },
   {
    "duration": 21,
    "start_time": "2022-02-02T18:19:32.689Z"
   },
   {
    "duration": 24,
    "start_time": "2022-02-02T18:19:32.712Z"
   },
   {
    "duration": 9,
    "start_time": "2022-02-02T18:19:32.738Z"
   },
   {
    "duration": 9,
    "start_time": "2022-02-02T18:19:32.749Z"
   },
   {
    "duration": 73,
    "start_time": "2022-02-02T18:19:32.760Z"
   },
   {
    "duration": 4,
    "start_time": "2022-02-02T18:19:32.836Z"
   },
   {
    "duration": 18,
    "start_time": "2022-02-02T18:19:32.842Z"
   },
   {
    "duration": 8,
    "start_time": "2022-02-02T18:19:32.862Z"
   },
   {
    "duration": 33,
    "start_time": "2022-02-02T18:19:32.872Z"
   },
   {
    "duration": 11,
    "start_time": "2022-02-02T18:19:32.907Z"
   },
   {
    "duration": 7,
    "start_time": "2022-02-02T18:19:32.921Z"
   },
   {
    "duration": 102,
    "start_time": "2022-02-02T18:19:32.930Z"
   },
   {
    "duration": 982,
    "start_time": "2022-02-02T18:19:33.100Z"
   },
   {
    "duration": 2894,
    "start_time": "2022-02-02T18:19:34.084Z"
   },
   {
    "duration": 32735,
    "start_time": "2022-02-02T18:19:36.979Z"
   },
   {
    "duration": 206,
    "start_time": "2022-02-02T18:20:09.716Z"
   },
   {
    "duration": 1958,
    "start_time": "2022-02-02T18:20:09.924Z"
   },
   {
    "duration": 1130,
    "start_time": "2022-02-02T18:36:51.412Z"
   },
   {
    "duration": 29,
    "start_time": "2022-02-02T18:36:52.544Z"
   },
   {
    "duration": 26,
    "start_time": "2022-02-02T18:36:52.578Z"
   },
   {
    "duration": 25,
    "start_time": "2022-02-02T18:36:52.606Z"
   },
   {
    "duration": 6,
    "start_time": "2022-02-02T18:36:52.632Z"
   },
   {
    "duration": 11,
    "start_time": "2022-02-02T18:36:52.640Z"
   },
   {
    "duration": 83,
    "start_time": "2022-02-02T18:36:52.653Z"
   },
   {
    "duration": 4,
    "start_time": "2022-02-02T18:36:52.738Z"
   },
   {
    "duration": 16,
    "start_time": "2022-02-02T18:36:52.744Z"
   },
   {
    "duration": 8,
    "start_time": "2022-02-02T18:36:52.762Z"
   },
   {
    "duration": 7,
    "start_time": "2022-02-02T18:36:52.798Z"
   },
   {
    "duration": 7,
    "start_time": "2022-02-02T18:36:52.807Z"
   },
   {
    "duration": 24,
    "start_time": "2022-02-02T18:36:52.816Z"
   },
   {
    "duration": 64,
    "start_time": "2022-02-02T18:36:52.842Z"
   },
   {
    "duration": 970,
    "start_time": "2022-02-02T18:36:52.909Z"
   },
   {
    "duration": 2627,
    "start_time": "2022-02-02T18:36:53.880Z"
   },
   {
    "duration": 29541,
    "start_time": "2022-02-02T18:36:56.510Z"
   },
   {
    "duration": 190,
    "start_time": "2022-02-02T18:37:26.053Z"
   },
   {
    "duration": 1643,
    "start_time": "2022-02-02T18:37:26.244Z"
   },
   {
    "duration": 12,
    "start_time": "2022-02-02T18:41:54.223Z"
   },
   {
    "duration": 4,
    "start_time": "2022-02-02T18:46:50.202Z"
   },
   {
    "duration": 16,
    "start_time": "2022-02-02T18:49:40.343Z"
   },
   {
    "duration": 12,
    "start_time": "2022-02-02T18:49:54.464Z"
   },
   {
    "duration": 1136,
    "start_time": "2022-02-02T18:50:27.991Z"
   },
   {
    "duration": 29,
    "start_time": "2022-02-02T18:50:29.130Z"
   },
   {
    "duration": 20,
    "start_time": "2022-02-02T18:50:29.161Z"
   },
   {
    "duration": 29,
    "start_time": "2022-02-02T18:50:29.183Z"
   },
   {
    "duration": 6,
    "start_time": "2022-02-02T18:50:29.214Z"
   },
   {
    "duration": 12,
    "start_time": "2022-02-02T18:50:29.222Z"
   },
   {
    "duration": 66,
    "start_time": "2022-02-02T18:50:29.235Z"
   },
   {
    "duration": 4,
    "start_time": "2022-02-02T18:50:29.304Z"
   },
   {
    "duration": 16,
    "start_time": "2022-02-02T18:50:29.310Z"
   },
   {
    "duration": 10,
    "start_time": "2022-02-02T18:50:29.328Z"
   },
   {
    "duration": 17,
    "start_time": "2022-02-02T18:50:29.340Z"
   },
   {
    "duration": 48,
    "start_time": "2022-02-02T18:50:29.358Z"
   },
   {
    "duration": 7,
    "start_time": "2022-02-02T18:50:29.408Z"
   },
   {
    "duration": 11,
    "start_time": "2022-02-02T18:50:29.417Z"
   },
   {
    "duration": 5,
    "start_time": "2022-02-02T18:50:29.430Z"
   },
   {
    "duration": 64,
    "start_time": "2022-02-02T18:50:29.437Z"
   },
   {
    "duration": 897,
    "start_time": "2022-02-02T18:50:29.502Z"
   },
   {
    "duration": 2602,
    "start_time": "2022-02-02T18:50:30.401Z"
   },
   {
    "duration": 29347,
    "start_time": "2022-02-02T18:50:33.005Z"
   },
   {
    "duration": 201,
    "start_time": "2022-02-02T18:51:02.354Z"
   },
   {
    "duration": 1655,
    "start_time": "2022-02-02T18:51:02.556Z"
   },
   {
    "duration": 4,
    "start_time": "2022-02-02T19:03:17.427Z"
   },
   {
    "duration": 77,
    "start_time": "2022-02-02T19:05:34.425Z"
   },
   {
    "duration": 32,
    "start_time": "2022-02-02T19:05:47.096Z"
   },
   {
    "duration": 74,
    "start_time": "2022-02-02T19:09:50.829Z"
   },
   {
    "duration": 28,
    "start_time": "2022-02-02T19:12:59.217Z"
   },
   {
    "duration": 435,
    "start_time": "2022-02-02T19:21:55.015Z"
   },
   {
    "duration": 4,
    "start_time": "2022-02-02T19:22:22.488Z"
   },
   {
    "duration": 15,
    "start_time": "2022-02-02T19:22:54.463Z"
   },
   {
    "duration": 17,
    "start_time": "2022-02-02T19:23:10.952Z"
   },
   {
    "duration": 11,
    "start_time": "2022-02-02T19:23:54.631Z"
   },
   {
    "duration": 17,
    "start_time": "2022-02-02T19:24:03.686Z"
   },
   {
    "duration": 8,
    "start_time": "2022-02-02T19:24:07.646Z"
   },
   {
    "duration": 267,
    "start_time": "2022-02-02T19:26:38.669Z"
   },
   {
    "duration": 6,
    "start_time": "2022-02-02T19:26:53.044Z"
   },
   {
    "duration": 6,
    "start_time": "2022-02-02T19:26:55.989Z"
   },
   {
    "duration": 51,
    "start_time": "2022-02-02T19:28:57.746Z"
   },
   {
    "duration": 156,
    "start_time": "2022-02-02T19:30:21.250Z"
   },
   {
    "duration": 1108,
    "start_time": "2022-02-02T19:30:35.453Z"
   },
   {
    "duration": 31,
    "start_time": "2022-02-02T19:30:36.563Z"
   },
   {
    "duration": 22,
    "start_time": "2022-02-02T19:30:36.597Z"
   },
   {
    "duration": 24,
    "start_time": "2022-02-02T19:30:36.621Z"
   },
   {
    "duration": 8,
    "start_time": "2022-02-02T19:30:36.647Z"
   },
   {
    "duration": 10,
    "start_time": "2022-02-02T19:30:36.657Z"
   },
   {
    "duration": 70,
    "start_time": "2022-02-02T19:30:36.669Z"
   },
   {
    "duration": 4,
    "start_time": "2022-02-02T19:30:36.742Z"
   },
   {
    "duration": 25,
    "start_time": "2022-02-02T19:30:36.748Z"
   },
   {
    "duration": 27,
    "start_time": "2022-02-02T19:30:36.776Z"
   },
   {
    "duration": 25,
    "start_time": "2022-02-02T19:30:36.805Z"
   },
   {
    "duration": 13,
    "start_time": "2022-02-02T19:30:36.832Z"
   },
   {
    "duration": 10,
    "start_time": "2022-02-02T19:30:36.846Z"
   },
   {
    "duration": 45,
    "start_time": "2022-02-02T19:30:36.857Z"
   },
   {
    "duration": 6,
    "start_time": "2022-02-02T19:30:36.904Z"
   },
   {
    "duration": 8,
    "start_time": "2022-02-02T19:30:36.912Z"
   },
   {
    "duration": 8,
    "start_time": "2022-02-02T19:30:36.922Z"
   },
   {
    "duration": 9,
    "start_time": "2022-02-02T19:30:36.932Z"
   },
   {
    "duration": 10,
    "start_time": "2022-02-02T19:30:36.942Z"
   },
   {
    "duration": 56,
    "start_time": "2022-02-02T19:30:36.954Z"
   },
   {
    "duration": 206,
    "start_time": "2022-02-02T19:30:37.012Z"
   },
   {
    "duration": 122,
    "start_time": "2022-02-02T19:30:37.304Z"
   },
   {
    "duration": 883,
    "start_time": "2022-02-02T19:30:37.502Z"
   },
   {
    "duration": 2602,
    "start_time": "2022-02-02T19:30:38.387Z"
   },
   {
    "duration": 29690,
    "start_time": "2022-02-02T19:30:40.991Z"
   },
   {
    "duration": 197,
    "start_time": "2022-02-02T19:31:10.683Z"
   },
   {
    "duration": 1667,
    "start_time": "2022-02-02T19:31:10.882Z"
   },
   {
    "duration": 55,
    "start_time": "2022-02-02T19:31:12.551Z"
   },
   {
    "duration": 7,
    "start_time": "2022-02-02T19:31:51.295Z"
   },
   {
    "duration": 6,
    "start_time": "2022-02-02T19:31:56.007Z"
   },
   {
    "duration": 86,
    "start_time": "2022-02-02T19:32:01.918Z"
   },
   {
    "duration": 1212,
    "start_time": "2022-02-02T19:32:18.861Z"
   },
   {
    "duration": 30,
    "start_time": "2022-02-02T19:32:20.074Z"
   },
   {
    "duration": 20,
    "start_time": "2022-02-02T19:32:20.107Z"
   },
   {
    "duration": 23,
    "start_time": "2022-02-02T19:32:20.129Z"
   },
   {
    "duration": 6,
    "start_time": "2022-02-02T19:32:20.154Z"
   },
   {
    "duration": 11,
    "start_time": "2022-02-02T19:32:20.161Z"
   },
   {
    "duration": 45,
    "start_time": "2022-02-02T19:32:20.198Z"
   },
   {
    "duration": 4,
    "start_time": "2022-02-02T19:32:20.246Z"
   },
   {
    "duration": 16,
    "start_time": "2022-02-02T19:32:20.252Z"
   },
   {
    "duration": 30,
    "start_time": "2022-02-02T19:32:20.270Z"
   },
   {
    "duration": 16,
    "start_time": "2022-02-02T19:32:20.302Z"
   },
   {
    "duration": 12,
    "start_time": "2022-02-02T19:32:20.319Z"
   },
   {
    "duration": 12,
    "start_time": "2022-02-02T19:32:20.333Z"
   },
   {
    "duration": 19,
    "start_time": "2022-02-02T19:32:20.348Z"
   },
   {
    "duration": 36,
    "start_time": "2022-02-02T19:32:20.369Z"
   },
   {
    "duration": 6,
    "start_time": "2022-02-02T19:32:20.407Z"
   },
   {
    "duration": 7,
    "start_time": "2022-02-02T19:32:20.415Z"
   },
   {
    "duration": 6,
    "start_time": "2022-02-02T19:32:20.424Z"
   },
   {
    "duration": 10,
    "start_time": "2022-02-02T19:32:20.432Z"
   },
   {
    "duration": 62,
    "start_time": "2022-02-02T19:32:20.443Z"
   },
   {
    "duration": 119,
    "start_time": "2022-02-02T19:32:20.508Z"
   },
   {
    "duration": 196,
    "start_time": "2022-02-02T19:32:20.703Z"
   },
   {
    "duration": 897,
    "start_time": "2022-02-02T19:32:20.904Z"
   },
   {
    "duration": 2630,
    "start_time": "2022-02-02T19:32:21.803Z"
   },
   {
    "duration": 30298,
    "start_time": "2022-02-02T19:32:24.436Z"
   },
   {
    "duration": 201,
    "start_time": "2022-02-02T19:32:54.736Z"
   },
   {
    "duration": 1707,
    "start_time": "2022-02-02T19:32:54.939Z"
   },
   {
    "duration": 1239,
    "start_time": "2022-02-02T19:34:00.026Z"
   },
   {
    "duration": 731,
    "start_time": "2022-02-02T19:35:02.521Z"
   },
   {
    "duration": 92,
    "start_time": "2022-02-02T19:35:55.009Z"
   },
   {
    "duration": 756,
    "start_time": "2022-02-02T19:36:04.959Z"
   },
   {
    "duration": 719,
    "start_time": "2022-02-02T19:36:47.070Z"
   },
   {
    "duration": 970,
    "start_time": "2022-02-03T18:08:54.713Z"
   },
   {
    "duration": 3,
    "start_time": "2022-02-03T18:09:00.580Z"
   },
   {
    "duration": 386,
    "start_time": "2022-02-03T18:15:54.563Z"
   },
   {
    "duration": 1000,
    "start_time": "2022-02-03T18:16:14.387Z"
   },
   {
    "duration": 28,
    "start_time": "2022-02-03T18:16:15.389Z"
   },
   {
    "duration": 16,
    "start_time": "2022-02-03T18:16:15.418Z"
   },
   {
    "duration": 18,
    "start_time": "2022-02-03T18:16:15.436Z"
   },
   {
    "duration": 5,
    "start_time": "2022-02-03T18:16:15.455Z"
   },
   {
    "duration": 11,
    "start_time": "2022-02-03T18:16:15.462Z"
   },
   {
    "duration": 34,
    "start_time": "2022-02-03T18:16:15.474Z"
   },
   {
    "duration": 4,
    "start_time": "2022-02-03T18:16:15.510Z"
   },
   {
    "duration": 12,
    "start_time": "2022-02-03T18:16:15.515Z"
   },
   {
    "duration": 6,
    "start_time": "2022-02-03T18:16:15.529Z"
   },
   {
    "duration": 41,
    "start_time": "2022-02-03T18:16:15.536Z"
   },
   {
    "duration": 9,
    "start_time": "2022-02-03T18:16:15.579Z"
   },
   {
    "duration": 8,
    "start_time": "2022-02-03T18:16:15.590Z"
   },
   {
    "duration": 17,
    "start_time": "2022-02-03T18:16:15.600Z"
   },
   {
    "duration": 5,
    "start_time": "2022-02-03T18:16:15.619Z"
   },
   {
    "duration": 8,
    "start_time": "2022-02-03T18:16:15.625Z"
   },
   {
    "duration": 8,
    "start_time": "2022-02-03T18:16:15.635Z"
   },
   {
    "duration": 28,
    "start_time": "2022-02-03T18:16:15.645Z"
   },
   {
    "duration": 8,
    "start_time": "2022-02-03T18:16:15.675Z"
   },
   {
    "duration": 87,
    "start_time": "2022-02-03T18:16:15.685Z"
   },
   {
    "duration": 118,
    "start_time": "2022-02-03T18:16:15.775Z"
   },
   {
    "duration": 200,
    "start_time": "2022-02-03T18:16:15.973Z"
   },
   {
    "duration": 5,
    "start_time": "2022-02-03T18:16:16.176Z"
   },
   {
    "duration": 851,
    "start_time": "2022-02-03T18:16:16.274Z"
   },
   {
    "duration": 599,
    "start_time": "2022-02-03T18:16:17.127Z"
   },
   {
    "duration": 2253,
    "start_time": "2022-02-03T18:16:17.727Z"
   },
   {
    "duration": 2180,
    "start_time": "2022-02-03T18:16:19.981Z"
   },
   {
    "duration": 25540,
    "start_time": "2022-02-03T18:16:22.163Z"
   },
   {
    "duration": 3189,
    "start_time": "2022-02-03T18:16:47.705Z"
   },
   {
    "duration": 167,
    "start_time": "2022-02-03T18:16:50.896Z"
   },
   {
    "duration": 1340,
    "start_time": "2022-02-03T18:16:51.065Z"
   },
   {
    "duration": 54601,
    "start_time": "2022-02-03T18:19:01.624Z"
   },
   {
    "duration": 66,
    "start_time": "2022-02-03T18:23:43.132Z"
   },
   {
    "duration": 387,
    "start_time": "2022-02-03T18:24:50.371Z"
   },
   {
    "duration": 4,
    "start_time": "2022-02-03T18:25:20.499Z"
   },
   {
    "duration": 292,
    "start_time": "2022-02-03T18:26:24.162Z"
   },
   {
    "duration": 69,
    "start_time": "2022-02-03T18:26:46.586Z"
   },
   {
    "duration": 145,
    "start_time": "2022-02-03T18:26:55.017Z"
   },
   {
    "duration": 3,
    "start_time": "2022-02-03T19:17:03.219Z"
   },
   {
    "duration": 29,
    "start_time": "2022-02-03T19:17:05.892Z"
   },
   {
    "duration": 11,
    "start_time": "2022-02-03T19:17:07.906Z"
   },
   {
    "duration": 8,
    "start_time": "2022-02-03T19:17:11.747Z"
   },
   {
    "duration": 34,
    "start_time": "2022-02-03T19:17:14.236Z"
   },
   {
    "duration": 19,
    "start_time": "2022-02-03T19:17:17.604Z"
   },
   {
    "duration": 6,
    "start_time": "2022-02-03T19:17:19.923Z"
   },
   {
    "duration": 5,
    "start_time": "2022-02-03T19:17:23.179Z"
   },
   {
    "duration": 11,
    "start_time": "2022-02-03T19:17:25.364Z"
   },
   {
    "duration": 15,
    "start_time": "2022-02-03T19:17:27.347Z"
   },
   {
    "duration": 11,
    "start_time": "2022-02-03T19:17:29.115Z"
   },
   {
    "duration": 6,
    "start_time": "2022-02-03T19:17:34.243Z"
   },
   {
    "duration": 5,
    "start_time": "2022-02-03T19:17:36.564Z"
   },
   {
    "duration": 4,
    "start_time": "2022-02-03T19:17:39.915Z"
   },
   {
    "duration": 309,
    "start_time": "2022-02-03T19:17:42.403Z"
   },
   {
    "duration": 42,
    "start_time": "2022-02-03T19:18:06.139Z"
   },
   {
    "duration": 3,
    "start_time": "2022-02-03T19:19:14.687Z"
   },
   {
    "duration": 24,
    "start_time": "2022-02-03T19:19:18.993Z"
   },
   {
    "duration": 7,
    "start_time": "2022-02-03T19:21:12.152Z"
   },
   {
    "duration": 82,
    "start_time": "2022-02-03T19:21:15.191Z"
   },
   {
    "duration": 627,
    "start_time": "2022-02-03T19:21:30.551Z"
   },
   {
    "duration": 5,
    "start_time": "2022-02-03T19:22:05.591Z"
   },
   {
    "duration": 59,
    "start_time": "2022-02-03T19:22:07.615Z"
   },
   {
    "duration": 25,
    "start_time": "2022-02-03T19:22:11.159Z"
   },
   {
    "duration": 25,
    "start_time": "2022-02-03T19:32:42.357Z"
   },
   {
    "duration": 4,
    "start_time": "2022-02-03T19:32:46.005Z"
   },
   {
    "duration": 697,
    "start_time": "2022-02-03T19:33:48.804Z"
   },
   {
    "duration": 1041,
    "start_time": "2022-02-03T19:34:50.555Z"
   },
   {
    "duration": 4,
    "start_time": "2022-02-03T19:41:37.909Z"
   },
   {
    "duration": 588,
    "start_time": "2022-02-03T19:41:40.269Z"
   },
   {
    "duration": 25,
    "start_time": "2022-02-03T19:42:06.165Z"
   },
   {
    "duration": 5,
    "start_time": "2022-02-03T19:42:28.756Z"
   },
   {
    "duration": 26,
    "start_time": "2022-02-03T19:42:31.492Z"
   },
   {
    "duration": 6,
    "start_time": "2022-02-03T19:43:17.219Z"
   },
   {
    "duration": 45,
    "start_time": "2022-02-03T19:43:20.827Z"
   },
   {
    "duration": 33,
    "start_time": "2022-02-03T19:43:39.043Z"
   },
   {
    "duration": 5,
    "start_time": "2022-02-03T19:43:52.123Z"
   },
   {
    "duration": 26,
    "start_time": "2022-02-03T19:43:54.331Z"
   },
   {
    "duration": 29,
    "start_time": "2022-02-03T19:44:07.242Z"
   },
   {
    "duration": 4,
    "start_time": "2022-02-03T19:44:11.826Z"
   },
   {
    "duration": 300,
    "start_time": "2022-02-03T19:44:13.690Z"
   },
   {
    "duration": 5,
    "start_time": "2022-02-03T19:44:50.210Z"
   },
   {
    "duration": 43,
    "start_time": "2022-02-03T19:44:55.329Z"
   },
   {
    "duration": 26,
    "start_time": "2022-02-03T19:45:00.385Z"
   },
   {
    "duration": 5,
    "start_time": "2022-02-03T19:45:03.817Z"
   },
   {
    "duration": 4,
    "start_time": "2022-02-03T19:45:07.412Z"
   },
   {
    "duration": 346,
    "start_time": "2022-02-03T19:45:09.049Z"
   },
   {
    "duration": 5,
    "start_time": "2022-02-03T19:45:27.569Z"
   },
   {
    "duration": 5,
    "start_time": "2022-02-03T19:45:30.081Z"
   },
   {
    "duration": 39,
    "start_time": "2022-02-03T19:45:31.832Z"
   },
   {
    "duration": 27,
    "start_time": "2022-02-03T19:45:34.777Z"
   },
   {
    "duration": 4,
    "start_time": "2022-02-03T19:45:38.145Z"
   },
   {
    "duration": 382,
    "start_time": "2022-02-03T19:45:41.145Z"
   },
   {
    "duration": 7,
    "start_time": "2022-02-03T19:46:18.025Z"
   },
   {
    "duration": 100,
    "start_time": "2022-02-03T19:46:21.672Z"
   },
   {
    "duration": 26,
    "start_time": "2022-02-03T19:46:24.856Z"
   },
   {
    "duration": 4,
    "start_time": "2022-02-03T19:46:30.640Z"
   },
   {
    "duration": 295,
    "start_time": "2022-02-03T19:46:33.144Z"
   },
   {
    "duration": 115,
    "start_time": "2022-02-05T19:25:02.451Z"
   },
   {
    "duration": 4,
    "start_time": "2022-02-05T19:37:35.264Z"
   },
   {
    "duration": 126,
    "start_time": "2022-02-05T19:59:30.182Z"
   },
   {
    "duration": 5,
    "start_time": "2022-02-05T19:59:52.611Z"
   },
   {
    "duration": 4,
    "start_time": "2022-02-05T20:22:02.624Z"
   },
   {
    "duration": 5,
    "start_time": "2022-02-05T20:24:08.574Z"
   },
   {
    "duration": 4,
    "start_time": "2022-02-05T20:27:20.629Z"
   },
   {
    "duration": 4,
    "start_time": "2022-02-05T20:28:09.460Z"
   },
   {
    "duration": 5,
    "start_time": "2022-02-05T20:29:36.875Z"
   },
   {
    "duration": 388,
    "start_time": "2022-02-05T20:33:26.119Z"
   },
   {
    "duration": 6,
    "start_time": "2022-02-05T20:45:40.851Z"
   },
   {
    "duration": 6,
    "start_time": "2022-02-05T20:47:16.794Z"
   },
   {
    "duration": 266,
    "start_time": "2022-02-06T07:30:20.730Z"
   },
   {
    "duration": 173,
    "start_time": "2022-02-06T07:31:58.913Z"
   },
   {
    "duration": 1131,
    "start_time": "2022-02-06T07:32:08.133Z"
   },
   {
    "duration": 30,
    "start_time": "2022-02-06T07:32:09.266Z"
   },
   {
    "duration": 16,
    "start_time": "2022-02-06T07:32:09.298Z"
   },
   {
    "duration": 10,
    "start_time": "2022-02-06T07:32:09.316Z"
   },
   {
    "duration": 56,
    "start_time": "2022-02-06T07:32:09.328Z"
   },
   {
    "duration": 21,
    "start_time": "2022-02-06T07:32:09.385Z"
   },
   {
    "duration": 6,
    "start_time": "2022-02-06T07:32:09.408Z"
   },
   {
    "duration": 6,
    "start_time": "2022-02-06T07:32:09.417Z"
   },
   {
    "duration": 43,
    "start_time": "2022-02-06T07:32:09.425Z"
   },
   {
    "duration": 18,
    "start_time": "2022-02-06T07:32:09.469Z"
   },
   {
    "duration": 14,
    "start_time": "2022-02-06T07:32:09.488Z"
   },
   {
    "duration": 7,
    "start_time": "2022-02-06T07:32:09.504Z"
   },
   {
    "duration": 260,
    "start_time": "2022-02-06T07:32:09.513Z"
   },
   {
    "duration": 470,
    "start_time": "2022-02-06T07:32:09.306Z"
   },
   {
    "duration": 465,
    "start_time": "2022-02-06T07:32:09.312Z"
   },
   {
    "duration": 462,
    "start_time": "2022-02-06T07:32:09.316Z"
   },
   {
    "duration": 460,
    "start_time": "2022-02-06T07:32:09.320Z"
   },
   {
    "duration": 459,
    "start_time": "2022-02-06T07:32:09.322Z"
   },
   {
    "duration": 457,
    "start_time": "2022-02-06T07:32:09.325Z"
   },
   {
    "duration": 457,
    "start_time": "2022-02-06T07:32:09.327Z"
   },
   {
    "duration": 455,
    "start_time": "2022-02-06T07:32:09.330Z"
   },
   {
    "duration": 453,
    "start_time": "2022-02-06T07:32:09.333Z"
   },
   {
    "duration": 453,
    "start_time": "2022-02-06T07:32:09.335Z"
   },
   {
    "duration": 452,
    "start_time": "2022-02-06T07:32:09.337Z"
   },
   {
    "duration": 451,
    "start_time": "2022-02-06T07:32:09.339Z"
   },
   {
    "duration": 450,
    "start_time": "2022-02-06T07:32:09.342Z"
   },
   {
    "duration": 449,
    "start_time": "2022-02-06T07:32:09.344Z"
   },
   {
    "duration": 448,
    "start_time": "2022-02-06T07:32:09.346Z"
   },
   {
    "duration": 447,
    "start_time": "2022-02-06T07:32:09.349Z"
   },
   {
    "duration": 446,
    "start_time": "2022-02-06T07:32:09.351Z"
   },
   {
    "duration": 447,
    "start_time": "2022-02-06T07:32:09.352Z"
   },
   {
    "duration": 446,
    "start_time": "2022-02-06T07:32:09.354Z"
   },
   {
    "duration": 446,
    "start_time": "2022-02-06T07:32:09.355Z"
   },
   {
    "duration": 445,
    "start_time": "2022-02-06T07:32:09.357Z"
   },
   {
    "duration": 445,
    "start_time": "2022-02-06T07:32:09.358Z"
   },
   {
    "duration": 444,
    "start_time": "2022-02-06T07:32:09.360Z"
   },
   {
    "duration": 443,
    "start_time": "2022-02-06T07:32:09.362Z"
   },
   {
    "duration": 443,
    "start_time": "2022-02-06T07:32:09.363Z"
   },
   {
    "duration": 442,
    "start_time": "2022-02-06T07:32:09.365Z"
   },
   {
    "duration": 178,
    "start_time": "2022-02-06T07:34:02.898Z"
   },
   {
    "duration": 5,
    "start_time": "2022-02-06T07:34:49.687Z"
   },
   {
    "duration": 7,
    "start_time": "2022-02-06T07:34:56.238Z"
   },
   {
    "duration": 1221,
    "start_time": "2022-02-06T07:35:03.437Z"
   },
   {
    "duration": 29,
    "start_time": "2022-02-06T07:35:04.661Z"
   },
   {
    "duration": 14,
    "start_time": "2022-02-06T07:35:04.693Z"
   },
   {
    "duration": 23,
    "start_time": "2022-02-06T07:35:04.709Z"
   },
   {
    "duration": 49,
    "start_time": "2022-02-06T07:35:04.734Z"
   },
   {
    "duration": 20,
    "start_time": "2022-02-06T07:35:04.785Z"
   },
   {
    "duration": 17,
    "start_time": "2022-02-06T07:35:04.807Z"
   },
   {
    "duration": 6,
    "start_time": "2022-02-06T07:35:04.827Z"
   },
   {
    "duration": 24,
    "start_time": "2022-02-06T07:35:04.836Z"
   },
   {
    "duration": 15,
    "start_time": "2022-02-06T07:35:04.862Z"
   },
   {
    "duration": 11,
    "start_time": "2022-02-06T07:35:04.879Z"
   },
   {
    "duration": 7,
    "start_time": "2022-02-06T07:35:04.891Z"
   },
   {
    "duration": 5,
    "start_time": "2022-02-06T07:35:04.899Z"
   },
   {
    "duration": 9,
    "start_time": "2022-02-06T07:35:04.906Z"
   },
   {
    "duration": 7,
    "start_time": "2022-02-06T07:35:04.916Z"
   },
   {
    "duration": 37,
    "start_time": "2022-02-06T07:35:04.924Z"
   },
   {
    "duration": 9,
    "start_time": "2022-02-06T07:35:04.963Z"
   },
   {
    "duration": 14,
    "start_time": "2022-02-06T07:35:04.974Z"
   },
   {
    "duration": 75,
    "start_time": "2022-02-06T07:35:04.989Z"
   },
   {
    "duration": 113,
    "start_time": "2022-02-06T07:35:05.066Z"
   },
   {
    "duration": 425,
    "start_time": "2022-02-06T07:35:05.181Z"
   },
   {
    "duration": 249,
    "start_time": "2022-02-06T07:35:05.607Z"
   },
   {
    "duration": 469,
    "start_time": "2022-02-06T07:35:05.389Z"
   },
   {
    "duration": 450,
    "start_time": "2022-02-06T07:35:05.409Z"
   },
   {
    "duration": 441,
    "start_time": "2022-02-06T07:35:05.419Z"
   },
   {
    "duration": 426,
    "start_time": "2022-02-06T07:35:05.435Z"
   },
   {
    "duration": 422,
    "start_time": "2022-02-06T07:35:05.440Z"
   },
   {
    "duration": 421,
    "start_time": "2022-02-06T07:35:05.442Z"
   },
   {
    "duration": 419,
    "start_time": "2022-02-06T07:35:05.445Z"
   },
   {
    "duration": 417,
    "start_time": "2022-02-06T07:35:05.448Z"
   },
   {
    "duration": 414,
    "start_time": "2022-02-06T07:35:05.452Z"
   },
   {
    "duration": 406,
    "start_time": "2022-02-06T07:35:05.461Z"
   },
   {
    "duration": 404,
    "start_time": "2022-02-06T07:35:05.464Z"
   },
   {
    "duration": 403,
    "start_time": "2022-02-06T07:35:05.466Z"
   },
   {
    "duration": 402,
    "start_time": "2022-02-06T07:35:05.468Z"
   },
   {
    "duration": 401,
    "start_time": "2022-02-06T07:35:05.470Z"
   },
   {
    "duration": 401,
    "start_time": "2022-02-06T07:35:05.471Z"
   },
   {
    "duration": 400,
    "start_time": "2022-02-06T07:35:05.473Z"
   },
   {
    "duration": 399,
    "start_time": "2022-02-06T07:35:05.474Z"
   },
   {
    "duration": 5,
    "start_time": "2022-02-06T07:38:12.571Z"
   },
   {
    "duration": 190,
    "start_time": "2022-02-06T07:38:47.371Z"
   },
   {
    "duration": 194,
    "start_time": "2022-02-06T07:40:11.066Z"
   },
   {
    "duration": 333,
    "start_time": "2022-02-06T07:40:15.177Z"
   },
   {
    "duration": 630,
    "start_time": "2022-02-06T07:43:10.903Z"
   },
   {
    "duration": 7,
    "start_time": "2022-02-06T07:44:52.366Z"
   },
   {
    "duration": 641,
    "start_time": "2022-02-06T07:45:04.493Z"
   },
   {
    "duration": 6,
    "start_time": "2022-02-06T07:46:29.099Z"
   },
   {
    "duration": 642,
    "start_time": "2022-02-06T07:46:34.540Z"
   },
   {
    "duration": 6,
    "start_time": "2022-02-06T07:47:34.035Z"
   },
   {
    "duration": 1051,
    "start_time": "2022-02-06T07:47:40.468Z"
   },
   {
    "duration": 336,
    "start_time": "2022-02-06T07:48:47.938Z"
   },
   {
    "duration": 160,
    "start_time": "2022-02-06T07:49:33.289Z"
   },
   {
    "duration": 1085,
    "start_time": "2022-02-06T07:49:41.200Z"
   },
   {
    "duration": 57,
    "start_time": "2022-02-06T09:03:27.205Z"
   },
   {
    "duration": 7,
    "start_time": "2022-02-06T09:04:26.188Z"
   },
   {
    "duration": 172,
    "start_time": "2022-02-06T09:05:29.787Z"
   },
   {
    "duration": 31640,
    "start_time": "2022-02-06T09:06:12.251Z"
   },
   {
    "duration": 7,
    "start_time": "2022-02-06T09:07:34.561Z"
   },
   {
    "duration": 31648,
    "start_time": "2022-02-06T09:07:39.665Z"
   },
   {
    "duration": 31819,
    "start_time": "2022-02-06T09:10:10.864Z"
   },
   {
    "duration": 171,
    "start_time": "2022-02-06T09:12:34.542Z"
   },
   {
    "duration": 21831,
    "start_time": "2022-02-06T09:14:15.228Z"
   },
   {
    "duration": 6,
    "start_time": "2022-02-06T09:23:29.126Z"
   },
   {
    "duration": 7,
    "start_time": "2022-02-06T09:24:03.708Z"
   },
   {
    "duration": 22212,
    "start_time": "2022-02-06T09:25:38.940Z"
   },
   {
    "duration": 154,
    "start_time": "2022-02-06T09:27:27.113Z"
   },
   {
    "duration": 156,
    "start_time": "2022-02-06T09:27:30.665Z"
   },
   {
    "duration": 410,
    "start_time": "2022-02-06T09:27:34.241Z"
   },
   {
    "duration": 5,
    "start_time": "2022-02-06T09:28:15.944Z"
   },
   {
    "duration": 5,
    "start_time": "2022-02-06T09:28:29.921Z"
   },
   {
    "duration": 7,
    "start_time": "2022-02-06T09:28:40.343Z"
   },
   {
    "duration": 21850,
    "start_time": "2022-02-06T09:29:05.519Z"
   },
   {
    "duration": 7,
    "start_time": "2022-02-06T09:39:55.869Z"
   },
   {
    "duration": 6,
    "start_time": "2022-02-06T09:41:50.762Z"
   },
   {
    "duration": 177,
    "start_time": "2022-02-06T09:44:54.960Z"
   },
   {
    "duration": 16,
    "start_time": "2022-02-06T09:45:00.224Z"
   },
   {
    "duration": 7,
    "start_time": "2022-02-06T09:45:06.792Z"
   },
   {
    "duration": 7,
    "start_time": "2022-02-06T09:45:19.880Z"
   },
   {
    "duration": 8,
    "start_time": "2022-02-06T09:46:20.231Z"
   },
   {
    "duration": 6,
    "start_time": "2022-02-06T09:47:13.822Z"
   },
   {
    "duration": 7,
    "start_time": "2022-02-06T09:47:48.105Z"
   },
   {
    "duration": 31212,
    "start_time": "2022-02-06T09:50:58.123Z"
   },
   {
    "duration": 6,
    "start_time": "2022-02-06T09:52:08.955Z"
   },
   {
    "duration": 51213,
    "start_time": "2022-02-06T09:52:13.313Z"
   },
   {
    "duration": 359,
    "start_time": "2022-02-06T09:59:52.242Z"
   },
   {
    "duration": 172,
    "start_time": "2022-02-06T09:59:57.002Z"
   },
   {
    "duration": 177,
    "start_time": "2022-02-06T10:00:00.371Z"
   },
   {
    "duration": 50918,
    "start_time": "2022-02-06T10:05:12.262Z"
   },
   {
    "duration": 317,
    "start_time": "2022-02-06T10:07:26.491Z"
   },
   {
    "duration": 155,
    "start_time": "2022-02-06T10:07:33.227Z"
   },
   {
    "duration": 170,
    "start_time": "2022-02-06T10:07:39.371Z"
   },
   {
    "duration": 355,
    "start_time": "2022-02-06T10:08:19.042Z"
   },
   {
    "duration": 155,
    "start_time": "2022-02-06T10:08:21.442Z"
   },
   {
    "duration": 177,
    "start_time": "2022-02-06T10:08:23.939Z"
   },
   {
    "duration": 4,
    "start_time": "2022-02-06T10:09:16.386Z"
   },
   {
    "duration": 1140,
    "start_time": "2022-02-06T10:09:25.161Z"
   },
   {
    "duration": 29,
    "start_time": "2022-02-06T10:09:26.303Z"
   },
   {
    "duration": 16,
    "start_time": "2022-02-06T10:09:26.334Z"
   },
   {
    "duration": 9,
    "start_time": "2022-02-06T10:09:26.360Z"
   },
   {
    "duration": 38,
    "start_time": "2022-02-06T10:09:26.371Z"
   },
   {
    "duration": 20,
    "start_time": "2022-02-06T10:09:26.411Z"
   },
   {
    "duration": 30,
    "start_time": "2022-02-06T10:09:26.433Z"
   },
   {
    "duration": 7,
    "start_time": "2022-02-06T10:09:26.465Z"
   },
   {
    "duration": 14,
    "start_time": "2022-02-06T10:09:26.474Z"
   },
   {
    "duration": 14,
    "start_time": "2022-02-06T10:09:26.490Z"
   },
   {
    "duration": 10,
    "start_time": "2022-02-06T10:09:26.505Z"
   },
   {
    "duration": 8,
    "start_time": "2022-02-06T10:09:26.517Z"
   },
   {
    "duration": 32,
    "start_time": "2022-02-06T10:09:26.527Z"
   },
   {
    "duration": 4,
    "start_time": "2022-02-06T10:09:26.561Z"
   },
   {
    "duration": 6,
    "start_time": "2022-02-06T10:09:26.567Z"
   },
   {
    "duration": 8,
    "start_time": "2022-02-06T10:09:26.574Z"
   },
   {
    "duration": 6,
    "start_time": "2022-02-06T10:09:26.584Z"
   },
   {
    "duration": 267,
    "start_time": "2022-02-06T10:09:26.592Z"
   },
   {
    "duration": 348,
    "start_time": "2022-02-06T10:09:26.862Z"
   },
   {
    "duration": 1360,
    "start_time": "2022-02-06T10:09:27.212Z"
   },
   {
    "duration": 154,
    "start_time": "2022-02-06T10:09:28.574Z"
   },
   {
    "duration": 34268,
    "start_time": "2022-02-06T10:09:28.730Z"
   },
   {
    "duration": 182,
    "start_time": "2022-02-06T10:10:03.001Z"
   },
   {
    "duration": 31554,
    "start_time": "2022-02-06T10:10:03.185Z"
   },
   {
    "duration": 358,
    "start_time": "2022-02-06T10:10:34.741Z"
   },
   {
    "duration": 164,
    "start_time": "2022-02-06T10:10:35.101Z"
   },
   {
    "duration": 192,
    "start_time": "2022-02-06T10:10:35.267Z"
   },
   {
    "duration": 7,
    "start_time": "2022-02-06T10:10:35.461Z"
   },
   {
    "duration": 16,
    "start_time": "2022-02-06T10:10:35.470Z"
   },
   {
    "duration": 6,
    "start_time": "2022-02-06T10:10:35.487Z"
   },
   {
    "duration": 7,
    "start_time": "2022-02-06T10:10:35.494Z"
   },
   {
    "duration": 7,
    "start_time": "2022-02-06T10:10:35.502Z"
   },
   {
    "duration": 102,
    "start_time": "2022-02-06T10:10:35.511Z"
   },
   {
    "duration": 51355,
    "start_time": "2022-02-06T10:10:35.615Z"
   },
   {
    "duration": 328,
    "start_time": "2022-02-06T10:11:26.972Z"
   },
   {
    "duration": 151,
    "start_time": "2022-02-06T10:11:27.302Z"
   },
   {
    "duration": 172,
    "start_time": "2022-02-06T10:11:27.458Z"
   },
   {
    "duration": 50504,
    "start_time": "2022-02-06T10:11:27.632Z"
   },
   {
    "duration": 360,
    "start_time": "2022-02-06T10:12:18.139Z"
   },
   {
    "duration": 162,
    "start_time": "2022-02-06T10:12:18.501Z"
   },
   {
    "duration": 176,
    "start_time": "2022-02-06T10:12:18.665Z"
   },
   {
    "duration": 268,
    "start_time": "2022-02-06T10:25:25.892Z"
   },
   {
    "duration": 295,
    "start_time": "2022-02-06T10:26:37.028Z"
   },
   {
    "duration": 335,
    "start_time": "2022-02-06T10:26:51.074Z"
   },
   {
    "duration": 15,
    "start_time": "2022-02-06T10:27:25.226Z"
   },
   {
    "duration": 15,
    "start_time": "2022-02-06T10:27:40.681Z"
   },
   {
    "duration": 11,
    "start_time": "2022-02-06T10:31:28.071Z"
   },
   {
    "duration": 11,
    "start_time": "2022-02-06T10:32:07.366Z"
   },
   {
    "duration": 26,
    "start_time": "2022-02-06T10:40:54.630Z"
   },
   {
    "duration": 1115,
    "start_time": "2022-02-06T10:41:52.148Z"
   },
   {
    "duration": 29,
    "start_time": "2022-02-06T10:41:53.265Z"
   },
   {
    "duration": 15,
    "start_time": "2022-02-06T10:41:53.297Z"
   },
   {
    "duration": 13,
    "start_time": "2022-02-06T10:41:53.313Z"
   },
   {
    "duration": 54,
    "start_time": "2022-02-06T10:41:53.328Z"
   },
   {
    "duration": 22,
    "start_time": "2022-02-06T10:41:53.385Z"
   },
   {
    "duration": 5,
    "start_time": "2022-02-06T10:41:53.409Z"
   },
   {
    "duration": 5,
    "start_time": "2022-02-06T10:41:53.416Z"
   },
   {
    "duration": 17,
    "start_time": "2022-02-06T10:41:53.423Z"
   },
   {
    "duration": 15,
    "start_time": "2022-02-06T10:41:53.459Z"
   },
   {
    "duration": 11,
    "start_time": "2022-02-06T10:41:53.476Z"
   },
   {
    "duration": 5,
    "start_time": "2022-02-06T10:41:53.488Z"
   },
   {
    "duration": 5,
    "start_time": "2022-02-06T10:41:53.494Z"
   },
   {
    "duration": 6,
    "start_time": "2022-02-06T10:41:53.500Z"
   },
   {
    "duration": 5,
    "start_time": "2022-02-06T10:41:53.507Z"
   },
   {
    "duration": 8,
    "start_time": "2022-02-06T10:41:53.514Z"
   },
   {
    "duration": 36,
    "start_time": "2022-02-06T10:41:53.523Z"
   },
   {
    "duration": 205,
    "start_time": "2022-02-06T10:41:53.560Z"
   },
   {
    "duration": 429,
    "start_time": "2022-02-06T10:41:53.767Z"
   },
   {
    "duration": 1446,
    "start_time": "2022-02-06T10:41:54.198Z"
   },
   {
    "duration": 183,
    "start_time": "2022-02-06T10:41:55.646Z"
   },
   {
    "duration": 34806,
    "start_time": "2022-02-06T10:41:55.831Z"
   },
   {
    "duration": 188,
    "start_time": "2022-02-06T10:42:30.641Z"
   },
   {
    "duration": 32320,
    "start_time": "2022-02-06T10:42:30.831Z"
   },
   {
    "duration": 349,
    "start_time": "2022-02-06T10:43:03.153Z"
   },
   {
    "duration": 165,
    "start_time": "2022-02-06T10:43:03.504Z"
   },
   {
    "duration": 203,
    "start_time": "2022-02-06T10:43:03.670Z"
   },
   {
    "duration": 9,
    "start_time": "2022-02-06T10:43:03.876Z"
   },
   {
    "duration": 19,
    "start_time": "2022-02-06T10:43:03.886Z"
   },
   {
    "duration": 6,
    "start_time": "2022-02-06T10:43:03.907Z"
   },
   {
    "duration": 11,
    "start_time": "2022-02-06T10:43:03.916Z"
   },
   {
    "duration": 32,
    "start_time": "2022-02-06T10:43:03.929Z"
   },
   {
    "duration": 78,
    "start_time": "2022-02-06T10:43:03.964Z"
   },
   {
    "duration": 51010,
    "start_time": "2022-02-06T10:43:04.044Z"
   },
   {
    "duration": 355,
    "start_time": "2022-02-06T10:43:55.058Z"
   },
   {
    "duration": 175,
    "start_time": "2022-02-06T10:43:55.415Z"
   },
   {
    "duration": 174,
    "start_time": "2022-02-06T10:43:55.592Z"
   },
   {
    "duration": 97,
    "start_time": "2022-02-06T10:43:55.768Z"
   },
   {
    "duration": 99,
    "start_time": "2022-02-06T10:43:55.867Z"
   },
   {
    "duration": 24,
    "start_time": "2022-02-06T10:43:55.968Z"
   },
   {
    "duration": 313,
    "start_time": "2022-02-06T10:43:55.993Z"
   },
   {
    "duration": 160,
    "start_time": "2022-02-06T10:43:56.308Z"
   },
   {
    "duration": 177,
    "start_time": "2022-02-06T10:43:56.470Z"
   },
   {
    "duration": 4,
    "start_time": "2022-02-06T10:46:54.559Z"
   },
   {
    "duration": 1119,
    "start_time": "2022-02-06T10:47:04.646Z"
   },
   {
    "duration": 29,
    "start_time": "2022-02-06T10:47:05.767Z"
   },
   {
    "duration": 14,
    "start_time": "2022-02-06T10:47:05.800Z"
   },
   {
    "duration": 14,
    "start_time": "2022-02-06T10:47:05.816Z"
   },
   {
    "duration": 46,
    "start_time": "2022-02-06T10:47:05.832Z"
   },
   {
    "duration": 19,
    "start_time": "2022-02-06T10:47:05.880Z"
   },
   {
    "duration": 6,
    "start_time": "2022-02-06T10:47:05.901Z"
   },
   {
    "duration": 5,
    "start_time": "2022-02-06T10:47:05.909Z"
   },
   {
    "duration": 14,
    "start_time": "2022-02-06T10:47:05.916Z"
   },
   {
    "duration": 43,
    "start_time": "2022-02-06T10:47:05.932Z"
   },
   {
    "duration": 13,
    "start_time": "2022-02-06T10:47:05.977Z"
   },
   {
    "duration": 7,
    "start_time": "2022-02-06T10:47:05.992Z"
   },
   {
    "duration": 6,
    "start_time": "2022-02-06T10:47:06.001Z"
   },
   {
    "duration": 8,
    "start_time": "2022-02-06T10:47:06.009Z"
   },
   {
    "duration": 8,
    "start_time": "2022-02-06T10:47:06.018Z"
   },
   {
    "duration": 36,
    "start_time": "2022-02-06T10:47:06.028Z"
   },
   {
    "duration": 9,
    "start_time": "2022-02-06T10:47:06.066Z"
   },
   {
    "duration": 196,
    "start_time": "2022-02-06T10:47:06.077Z"
   },
   {
    "duration": 433,
    "start_time": "2022-02-06T10:47:06.359Z"
   },
   {
    "duration": 1584,
    "start_time": "2022-02-06T10:47:06.794Z"
   },
   {
    "duration": 167,
    "start_time": "2022-02-06T10:47:08.380Z"
   },
   {
    "duration": 34222,
    "start_time": "2022-02-06T10:47:08.550Z"
   },
   {
    "duration": 177,
    "start_time": "2022-02-06T10:47:42.774Z"
   },
   {
    "duration": 31760,
    "start_time": "2022-02-06T10:47:42.952Z"
   },
   {
    "duration": 296,
    "start_time": "2022-02-06T10:48:14.713Z"
   },
   {
    "duration": 169,
    "start_time": "2022-02-06T10:48:15.011Z"
   },
   {
    "duration": 196,
    "start_time": "2022-02-06T10:48:15.182Z"
   },
   {
    "duration": 8,
    "start_time": "2022-02-06T10:48:15.380Z"
   },
   {
    "duration": 17,
    "start_time": "2022-02-06T10:48:15.389Z"
   },
   {
    "duration": 6,
    "start_time": "2022-02-06T10:48:15.408Z"
   },
   {
    "duration": 11,
    "start_time": "2022-02-06T10:48:15.415Z"
   },
   {
    "duration": 30,
    "start_time": "2022-02-06T10:48:15.428Z"
   },
   {
    "duration": 82,
    "start_time": "2022-02-06T10:48:15.460Z"
   },
   {
    "duration": 50803,
    "start_time": "2022-02-06T10:48:15.544Z"
   },
   {
    "duration": 350,
    "start_time": "2022-02-06T10:49:06.349Z"
   },
   {
    "duration": 173,
    "start_time": "2022-02-06T10:49:06.701Z"
   },
   {
    "duration": 183,
    "start_time": "2022-02-06T10:49:06.876Z"
   },
   {
    "duration": 15,
    "start_time": "2022-02-06T10:49:07.060Z"
   },
   {
    "duration": 104,
    "start_time": "2022-02-06T10:49:07.160Z"
   },
   {
    "duration": 25,
    "start_time": "2022-02-06T10:49:07.266Z"
   },
   {
    "duration": 310,
    "start_time": "2022-02-06T10:49:07.292Z"
   },
   {
    "duration": 163,
    "start_time": "2022-02-06T10:49:07.604Z"
   },
   {
    "duration": 170,
    "start_time": "2022-02-06T10:49:07.769Z"
   },
   {
    "duration": 14,
    "start_time": "2022-02-06T10:55:35.198Z"
   },
   {
    "duration": 5,
    "start_time": "2022-02-06T10:56:04.903Z"
   },
   {
    "duration": 1105,
    "start_time": "2022-02-06T10:56:15.726Z"
   },
   {
    "duration": 29,
    "start_time": "2022-02-06T10:56:16.833Z"
   },
   {
    "duration": 15,
    "start_time": "2022-02-06T10:56:16.864Z"
   },
   {
    "duration": 10,
    "start_time": "2022-02-06T10:56:16.880Z"
   },
   {
    "duration": 37,
    "start_time": "2022-02-06T10:56:16.891Z"
   },
   {
    "duration": 40,
    "start_time": "2022-02-06T10:56:16.929Z"
   },
   {
    "duration": 7,
    "start_time": "2022-02-06T10:56:16.970Z"
   },
   {
    "duration": 5,
    "start_time": "2022-02-06T10:56:16.979Z"
   },
   {
    "duration": 15,
    "start_time": "2022-02-06T10:56:16.985Z"
   },
   {
    "duration": 16,
    "start_time": "2022-02-06T10:56:17.001Z"
   },
   {
    "duration": 14,
    "start_time": "2022-02-06T10:56:17.018Z"
   },
   {
    "duration": 30,
    "start_time": "2022-02-06T10:56:17.033Z"
   },
   {
    "duration": 5,
    "start_time": "2022-02-06T10:56:17.065Z"
   },
   {
    "duration": 10,
    "start_time": "2022-02-06T10:56:17.071Z"
   },
   {
    "duration": 14,
    "start_time": "2022-02-06T10:56:17.083Z"
   },
   {
    "duration": 19,
    "start_time": "2022-02-06T10:56:17.099Z"
   },
   {
    "duration": 8,
    "start_time": "2022-02-06T10:56:17.120Z"
   },
   {
    "duration": 137,
    "start_time": "2022-02-06T10:56:17.130Z"
   },
   {
    "duration": 983,
    "start_time": "2022-02-06T10:56:17.269Z"
   },
   {
    "duration": 299,
    "start_time": "2022-02-06T10:56:17.955Z"
   },
   {
    "duration": 294,
    "start_time": "2022-02-06T10:56:17.961Z"
   },
   {
    "duration": 286,
    "start_time": "2022-02-06T10:56:17.970Z"
   },
   {
    "duration": 280,
    "start_time": "2022-02-06T10:56:17.977Z"
   },
   {
    "duration": 275,
    "start_time": "2022-02-06T10:56:17.983Z"
   },
   {
    "duration": 272,
    "start_time": "2022-02-06T10:56:17.987Z"
   },
   {
    "duration": 270,
    "start_time": "2022-02-06T10:56:17.990Z"
   },
   {
    "duration": 267,
    "start_time": "2022-02-06T10:56:17.993Z"
   },
   {
    "duration": 265,
    "start_time": "2022-02-06T10:56:17.996Z"
   },
   {
    "duration": 264,
    "start_time": "2022-02-06T10:56:17.998Z"
   },
   {
    "duration": 261,
    "start_time": "2022-02-06T10:56:18.002Z"
   },
   {
    "duration": 258,
    "start_time": "2022-02-06T10:56:18.006Z"
   },
   {
    "duration": 254,
    "start_time": "2022-02-06T10:56:18.011Z"
   },
   {
    "duration": 247,
    "start_time": "2022-02-06T10:56:18.018Z"
   },
   {
    "duration": 246,
    "start_time": "2022-02-06T10:56:18.020Z"
   },
   {
    "duration": 244,
    "start_time": "2022-02-06T10:56:18.023Z"
   },
   {
    "duration": 242,
    "start_time": "2022-02-06T10:56:18.026Z"
   },
   {
    "duration": 239,
    "start_time": "2022-02-06T10:56:18.030Z"
   },
   {
    "duration": 236,
    "start_time": "2022-02-06T10:56:18.035Z"
   },
   {
    "duration": 231,
    "start_time": "2022-02-06T10:56:18.040Z"
   },
   {
    "duration": 225,
    "start_time": "2022-02-06T10:56:18.047Z"
   },
   {
    "duration": 222,
    "start_time": "2022-02-06T10:56:18.051Z"
   },
   {
    "duration": 221,
    "start_time": "2022-02-06T10:56:18.053Z"
   },
   {
    "duration": 219,
    "start_time": "2022-02-06T10:56:18.056Z"
   },
   {
    "duration": 4,
    "start_time": "2022-02-06T10:57:52.394Z"
   },
   {
    "duration": 1114,
    "start_time": "2022-02-06T10:57:59.660Z"
   },
   {
    "duration": 29,
    "start_time": "2022-02-06T10:58:00.776Z"
   },
   {
    "duration": 41,
    "start_time": "2022-02-06T10:58:00.807Z"
   },
   {
    "duration": 15,
    "start_time": "2022-02-06T10:58:00.851Z"
   },
   {
    "duration": 51,
    "start_time": "2022-02-06T10:58:00.868Z"
   },
   {
    "duration": 26,
    "start_time": "2022-02-06T10:58:00.920Z"
   },
   {
    "duration": 7,
    "start_time": "2022-02-06T10:58:00.959Z"
   },
   {
    "duration": 25,
    "start_time": "2022-02-06T10:58:00.968Z"
   },
   {
    "duration": 27,
    "start_time": "2022-02-06T10:58:00.995Z"
   },
   {
    "duration": 24,
    "start_time": "2022-02-06T10:58:01.024Z"
   },
   {
    "duration": 14,
    "start_time": "2022-02-06T10:58:01.050Z"
   },
   {
    "duration": 6,
    "start_time": "2022-02-06T10:58:01.065Z"
   },
   {
    "duration": 11,
    "start_time": "2022-02-06T10:58:01.072Z"
   },
   {
    "duration": 10,
    "start_time": "2022-02-06T10:58:01.085Z"
   },
   {
    "duration": 27,
    "start_time": "2022-02-06T10:58:01.097Z"
   },
   {
    "duration": 13,
    "start_time": "2022-02-06T10:58:01.126Z"
   },
   {
    "duration": 36,
    "start_time": "2022-02-06T10:58:01.141Z"
   },
   {
    "duration": 189,
    "start_time": "2022-02-06T10:58:01.180Z"
   },
   {
    "duration": 362,
    "start_time": "2022-02-06T10:58:01.460Z"
   },
   {
    "duration": 1415,
    "start_time": "2022-02-06T10:58:01.824Z"
   },
   {
    "duration": 171,
    "start_time": "2022-02-06T10:58:03.241Z"
   },
   {
    "duration": 34230,
    "start_time": "2022-02-06T10:58:03.414Z"
   },
   {
    "duration": 179,
    "start_time": "2022-02-06T10:58:37.649Z"
   },
   {
    "duration": 31763,
    "start_time": "2022-02-06T10:58:37.831Z"
   },
   {
    "duration": 313,
    "start_time": "2022-02-06T10:59:09.595Z"
   },
   {
    "duration": 167,
    "start_time": "2022-02-06T10:59:09.910Z"
   },
   {
    "duration": 196,
    "start_time": "2022-02-06T10:59:10.079Z"
   },
   {
    "duration": 7,
    "start_time": "2022-02-06T10:59:10.276Z"
   },
   {
    "duration": 32,
    "start_time": "2022-02-06T10:59:10.285Z"
   },
   {
    "duration": 15,
    "start_time": "2022-02-06T10:59:10.319Z"
   },
   {
    "duration": 16,
    "start_time": "2022-02-06T10:59:10.336Z"
   },
   {
    "duration": 14,
    "start_time": "2022-02-06T10:59:10.354Z"
   },
   {
    "duration": 81,
    "start_time": "2022-02-06T10:59:10.369Z"
   },
   {
    "duration": 50621,
    "start_time": "2022-02-06T10:59:10.452Z"
   },
   {
    "duration": 347,
    "start_time": "2022-02-06T11:00:01.075Z"
   },
   {
    "duration": 173,
    "start_time": "2022-02-06T11:00:01.424Z"
   },
   {
    "duration": 196,
    "start_time": "2022-02-06T11:00:01.598Z"
   },
   {
    "duration": 68,
    "start_time": "2022-02-06T11:00:01.795Z"
   },
   {
    "duration": 140,
    "start_time": "2022-02-06T11:00:01.866Z"
   },
   {
    "duration": 43,
    "start_time": "2022-02-06T11:00:02.008Z"
   },
   {
    "duration": 360,
    "start_time": "2022-02-06T11:00:02.053Z"
   },
   {
    "duration": 175,
    "start_time": "2022-02-06T11:00:02.415Z"
   },
   {
    "duration": 187,
    "start_time": "2022-02-06T11:00:02.591Z"
   },
   {
    "duration": 1144,
    "start_time": "2022-02-06T12:23:06.927Z"
   },
   {
    "duration": 29,
    "start_time": "2022-02-06T12:23:08.073Z"
   },
   {
    "duration": 15,
    "start_time": "2022-02-06T12:23:08.104Z"
   },
   {
    "duration": 12,
    "start_time": "2022-02-06T12:23:08.120Z"
   },
   {
    "duration": 50,
    "start_time": "2022-02-06T12:23:08.134Z"
   },
   {
    "duration": 23,
    "start_time": "2022-02-06T12:23:08.185Z"
   },
   {
    "duration": 6,
    "start_time": "2022-02-06T12:23:08.209Z"
   },
   {
    "duration": 7,
    "start_time": "2022-02-06T12:23:08.218Z"
   },
   {
    "duration": 37,
    "start_time": "2022-02-06T12:23:08.227Z"
   },
   {
    "duration": 16,
    "start_time": "2022-02-06T12:23:08.266Z"
   },
   {
    "duration": 11,
    "start_time": "2022-02-06T12:23:08.284Z"
   },
   {
    "duration": 5,
    "start_time": "2022-02-06T12:23:08.297Z"
   },
   {
    "duration": 5,
    "start_time": "2022-02-06T12:23:08.304Z"
   },
   {
    "duration": 10,
    "start_time": "2022-02-06T12:23:08.311Z"
   },
   {
    "duration": 12,
    "start_time": "2022-02-06T12:23:08.323Z"
   },
   {
    "duration": 27,
    "start_time": "2022-02-06T12:23:08.337Z"
   },
   {
    "duration": 7,
    "start_time": "2022-02-06T12:23:08.366Z"
   },
   {
    "duration": 186,
    "start_time": "2022-02-06T12:23:08.374Z"
   },
   {
    "duration": 368,
    "start_time": "2022-02-06T12:23:08.562Z"
   },
   {
    "duration": 1464,
    "start_time": "2022-02-06T12:23:08.931Z"
   },
   {
    "duration": 176,
    "start_time": "2022-02-06T12:23:10.397Z"
   },
   {
    "duration": 34659,
    "start_time": "2022-02-06T12:23:10.576Z"
   },
   {
    "duration": 182,
    "start_time": "2022-02-06T12:23:45.238Z"
   },
   {
    "duration": 32386,
    "start_time": "2022-02-06T12:23:45.421Z"
   },
   {
    "duration": 310,
    "start_time": "2022-02-06T12:24:17.809Z"
   },
   {
    "duration": 171,
    "start_time": "2022-02-06T12:24:18.121Z"
   },
   {
    "duration": 189,
    "start_time": "2022-02-06T12:24:18.294Z"
   },
   {
    "duration": 8,
    "start_time": "2022-02-06T12:24:18.484Z"
   },
   {
    "duration": 16,
    "start_time": "2022-02-06T12:24:18.493Z"
   },
   {
    "duration": 5,
    "start_time": "2022-02-06T12:24:18.510Z"
   },
   {
    "duration": 6,
    "start_time": "2022-02-06T12:24:18.517Z"
   },
   {
    "duration": 38,
    "start_time": "2022-02-06T12:24:18.524Z"
   },
   {
    "duration": 76,
    "start_time": "2022-02-06T12:24:18.564Z"
   },
   {
    "duration": 51228,
    "start_time": "2022-02-06T12:24:18.641Z"
   },
   {
    "duration": 343,
    "start_time": "2022-02-06T12:25:09.870Z"
   },
   {
    "duration": 175,
    "start_time": "2022-02-06T12:25:10.215Z"
   },
   {
    "duration": 177,
    "start_time": "2022-02-06T12:25:10.391Z"
   },
   {
    "duration": 90,
    "start_time": "2022-02-06T12:25:10.570Z"
   },
   {
    "duration": 98,
    "start_time": "2022-02-06T12:25:10.665Z"
   },
   {
    "duration": 26,
    "start_time": "2022-02-06T12:25:10.765Z"
   },
   {
    "duration": 311,
    "start_time": "2022-02-06T12:25:10.792Z"
   },
   {
    "duration": 173,
    "start_time": "2022-02-06T12:25:11.105Z"
   },
   {
    "duration": 179,
    "start_time": "2022-02-06T12:25:11.279Z"
   },
   {
    "duration": 1044,
    "start_time": "2022-02-06T16:57:38.818Z"
   },
   {
    "duration": 30,
    "start_time": "2022-02-06T16:57:39.864Z"
   },
   {
    "duration": 14,
    "start_time": "2022-02-06T16:57:39.896Z"
   },
   {
    "duration": 16,
    "start_time": "2022-02-06T16:57:39.912Z"
   },
   {
    "duration": 49,
    "start_time": "2022-02-06T16:57:39.929Z"
   },
   {
    "duration": 19,
    "start_time": "2022-02-06T16:57:39.980Z"
   },
   {
    "duration": 5,
    "start_time": "2022-02-06T16:57:40.001Z"
   },
   {
    "duration": 19,
    "start_time": "2022-02-06T16:57:40.009Z"
   },
   {
    "duration": 22,
    "start_time": "2022-02-06T16:57:40.030Z"
   },
   {
    "duration": 27,
    "start_time": "2022-02-06T16:57:40.053Z"
   },
   {
    "duration": 11,
    "start_time": "2022-02-06T16:57:40.082Z"
   },
   {
    "duration": 23,
    "start_time": "2022-02-06T16:57:40.094Z"
   },
   {
    "duration": 7,
    "start_time": "2022-02-06T16:57:40.119Z"
   },
   {
    "duration": 11,
    "start_time": "2022-02-06T16:57:40.128Z"
   },
   {
    "duration": 8,
    "start_time": "2022-02-06T16:57:40.141Z"
   },
   {
    "duration": 11,
    "start_time": "2022-02-06T16:57:40.150Z"
   },
   {
    "duration": 27,
    "start_time": "2022-02-06T16:57:40.163Z"
   },
   {
    "duration": 170,
    "start_time": "2022-02-06T16:57:40.191Z"
   },
   {
    "duration": 442,
    "start_time": "2022-02-06T16:57:40.363Z"
   },
   {
    "duration": 1410,
    "start_time": "2022-02-06T16:57:40.806Z"
   },
   {
    "duration": 172,
    "start_time": "2022-02-06T16:57:42.218Z"
   },
   {
    "duration": 34974,
    "start_time": "2022-02-06T16:57:42.392Z"
   },
   {
    "duration": 195,
    "start_time": "2022-02-06T16:58:17.369Z"
   },
   {
    "duration": 31507,
    "start_time": "2022-02-06T16:58:17.566Z"
   },
   {
    "duration": 321,
    "start_time": "2022-02-06T16:58:49.075Z"
   },
   {
    "duration": 166,
    "start_time": "2022-02-06T16:58:49.397Z"
   },
   {
    "duration": 195,
    "start_time": "2022-02-06T16:58:49.564Z"
   },
   {
    "duration": 9,
    "start_time": "2022-02-06T16:58:49.761Z"
   },
   {
    "duration": 16,
    "start_time": "2022-02-06T16:58:49.771Z"
   },
   {
    "duration": 5,
    "start_time": "2022-02-06T16:58:49.789Z"
   },
   {
    "duration": 6,
    "start_time": "2022-02-06T16:58:49.796Z"
   },
   {
    "duration": 9,
    "start_time": "2022-02-06T16:58:49.804Z"
   },
   {
    "duration": 105,
    "start_time": "2022-02-06T16:58:49.814Z"
   },
   {
    "duration": 51861,
    "start_time": "2022-02-06T16:58:49.921Z"
   },
   {
    "duration": 377,
    "start_time": "2022-02-06T16:59:41.784Z"
   },
   {
    "duration": 184,
    "start_time": "2022-02-06T16:59:42.164Z"
   },
   {
    "duration": 181,
    "start_time": "2022-02-06T16:59:42.349Z"
   },
   {
    "duration": 129,
    "start_time": "2022-02-06T16:59:42.532Z"
   },
   {
    "duration": 12,
    "start_time": "2022-02-06T16:59:42.663Z"
   },
   {
    "duration": 104,
    "start_time": "2022-02-06T16:59:42.677Z"
   },
   {
    "duration": 382,
    "start_time": "2022-02-06T16:59:42.783Z"
   },
   {
    "duration": 178,
    "start_time": "2022-02-06T16:59:43.166Z"
   },
   {
    "duration": 186,
    "start_time": "2022-02-06T16:59:43.346Z"
   },
   {
    "duration": 59,
    "start_time": "2022-02-06T17:27:20.564Z"
   },
   {
    "duration": 62,
    "start_time": "2022-02-06T17:32:58.989Z"
   },
   {
    "duration": 52,
    "start_time": "2022-02-06T18:14:02.642Z"
   },
   {
    "duration": 554,
    "start_time": "2022-02-06T18:40:25.287Z"
   },
   {
    "duration": 95,
    "start_time": "2022-02-06T18:52:13.406Z"
   },
   {
    "duration": 8,
    "start_time": "2022-02-06T19:34:54.213Z"
   },
   {
    "duration": 306,
    "start_time": "2022-02-06T19:47:31.505Z"
   },
   {
    "duration": 256,
    "start_time": "2022-02-06T19:50:31.096Z"
   },
   {
    "duration": 265,
    "start_time": "2022-02-06T19:53:58.245Z"
   },
   {
    "duration": 1510,
    "start_time": "2022-02-06T19:54:10.160Z"
   },
   {
    "duration": 34,
    "start_time": "2022-02-06T19:54:11.673Z"
   },
   {
    "duration": 23,
    "start_time": "2022-02-06T19:54:11.710Z"
   },
   {
    "duration": 14,
    "start_time": "2022-02-06T19:54:11.735Z"
   },
   {
    "duration": 61,
    "start_time": "2022-02-06T19:54:11.770Z"
   },
   {
    "duration": 55,
    "start_time": "2022-02-06T19:54:11.834Z"
   },
   {
    "duration": 11,
    "start_time": "2022-02-06T19:54:11.892Z"
   },
   {
    "duration": 7,
    "start_time": "2022-02-06T19:54:11.906Z"
   },
   {
    "duration": 23,
    "start_time": "2022-02-06T19:54:11.916Z"
   },
   {
    "duration": 49,
    "start_time": "2022-02-06T19:54:11.941Z"
   },
   {
    "duration": 20,
    "start_time": "2022-02-06T19:54:11.993Z"
   },
   {
    "duration": 12,
    "start_time": "2022-02-06T19:54:12.016Z"
   },
   {
    "duration": 44,
    "start_time": "2022-02-06T19:54:12.031Z"
   },
   {
    "duration": 7,
    "start_time": "2022-02-06T19:54:12.078Z"
   },
   {
    "duration": 9,
    "start_time": "2022-02-06T19:54:12.088Z"
   },
   {
    "duration": 12,
    "start_time": "2022-02-06T19:54:12.100Z"
   },
   {
    "duration": 54,
    "start_time": "2022-02-06T19:54:12.115Z"
   },
   {
    "duration": 102,
    "start_time": "2022-02-06T19:54:12.172Z"
   },
   {
    "duration": 543,
    "start_time": "2022-02-06T19:54:12.277Z"
   },
   {
    "duration": 1589,
    "start_time": "2022-02-06T19:54:12.823Z"
   },
   {
    "duration": 288,
    "start_time": "2022-02-06T19:54:14.414Z"
   },
   {
    "duration": 51220,
    "start_time": "2022-02-06T19:54:14.705Z"
   },
   {
    "duration": 292,
    "start_time": "2022-02-06T19:55:05.932Z"
   },
   {
    "duration": 12,
    "start_time": "2022-02-06T19:55:06.227Z"
   },
   {
    "duration": 7,
    "start_time": "2022-02-06T19:55:06.242Z"
   },
   {
    "duration": 36850,
    "start_time": "2022-02-06T19:55:06.268Z"
   },
   {
    "duration": 409,
    "start_time": "2022-02-06T19:55:43.120Z"
   },
   {
    "duration": 279,
    "start_time": "2022-02-06T19:55:43.531Z"
   },
   {
    "duration": 288,
    "start_time": "2022-02-06T19:55:43.813Z"
   },
   {
    "duration": 11,
    "start_time": "2022-02-06T19:55:44.104Z"
   },
   {
    "duration": 23,
    "start_time": "2022-02-06T19:55:44.117Z"
   },
   {
    "duration": 33,
    "start_time": "2022-02-06T19:55:44.142Z"
   },
   {
    "duration": 7,
    "start_time": "2022-02-06T19:55:44.178Z"
   },
   {
    "duration": 7,
    "start_time": "2022-02-06T19:55:44.188Z"
   },
   {
    "duration": 107,
    "start_time": "2022-02-06T19:55:44.197Z"
   },
   {
    "duration": 50150,
    "start_time": "2022-02-06T19:55:44.306Z"
   },
   {
    "duration": 455,
    "start_time": "2022-02-06T19:56:34.459Z"
   },
   {
    "duration": 268,
    "start_time": "2022-02-06T19:56:34.917Z"
   },
   {
    "duration": 288,
    "start_time": "2022-02-06T19:56:35.187Z"
   },
   {
    "duration": 97,
    "start_time": "2022-02-06T19:56:35.477Z"
   },
   {
    "duration": 107,
    "start_time": "2022-02-06T19:56:35.577Z"
   },
   {
    "duration": 29,
    "start_time": "2022-02-06T19:56:35.686Z"
   },
   {
    "duration": 411,
    "start_time": "2022-02-06T19:56:35.717Z"
   },
   {
    "duration": 275,
    "start_time": "2022-02-06T19:56:36.130Z"
   },
   {
    "duration": 285,
    "start_time": "2022-02-06T19:56:36.407Z"
   },
   {
    "duration": 23,
    "start_time": "2022-02-06T19:56:36.695Z"
   },
   {
    "duration": 9,
    "start_time": "2022-02-06T19:56:46.262Z"
   },
   {
    "duration": 44754,
    "start_time": "2022-02-06T19:58:55.333Z"
   },
   {
    "duration": 469,
    "start_time": "2022-02-06T20:00:30.652Z"
   },
   {
    "duration": 262,
    "start_time": "2022-02-06T20:00:40.307Z"
   },
   {
    "duration": 291,
    "start_time": "2022-02-06T20:00:50.227Z"
   },
   {
    "duration": 41,
    "start_time": "2022-02-06T20:01:51.538Z"
   },
   {
    "duration": 15,
    "start_time": "2022-02-06T20:02:36.169Z"
   },
   {
    "duration": 27,
    "start_time": "2022-02-06T20:03:07.129Z"
   },
   {
    "duration": 615,
    "start_time": "2022-02-06T20:11:26.841Z"
   },
   {
    "duration": 306,
    "start_time": "2022-02-06T20:11:39.648Z"
   },
   {
    "duration": 295,
    "start_time": "2022-02-06T20:12:00.559Z"
   },
   {
    "duration": 280,
    "start_time": "2022-02-06T20:12:50.071Z"
   },
   {
    "duration": 5,
    "start_time": "2022-02-06T20:13:03.783Z"
   },
   {
    "duration": 7,
    "start_time": "2022-02-06T20:13:16.431Z"
   },
   {
    "duration": 3308,
    "start_time": "2022-02-06T20:13:40.221Z"
   },
   {
    "duration": 9,
    "start_time": "2022-02-06T20:13:48.671Z"
   },
   {
    "duration": 40,
    "start_time": "2022-02-06T20:13:52.038Z"
   },
   {
    "duration": 21,
    "start_time": "2022-02-06T20:13:54.750Z"
   },
   {
    "duration": 12,
    "start_time": "2022-02-06T20:13:57.862Z"
   },
   {
    "duration": 66,
    "start_time": "2022-02-06T20:14:00.982Z"
   },
   {
    "duration": 53,
    "start_time": "2022-02-06T20:14:04.487Z"
   },
   {
    "duration": 6,
    "start_time": "2022-02-06T20:14:08.358Z"
   },
   {
    "duration": 8,
    "start_time": "2022-02-06T20:14:10.733Z"
   },
   {
    "duration": 33,
    "start_time": "2022-02-06T20:14:21.685Z"
   },
   {
    "duration": 18,
    "start_time": "2022-02-06T20:14:24.309Z"
   },
   {
    "duration": 12,
    "start_time": "2022-02-06T20:14:26.389Z"
   },
   {
    "duration": 66,
    "start_time": "2022-02-06T20:14:29.008Z"
   },
   {
    "duration": 35,
    "start_time": "2022-02-06T20:14:32.510Z"
   },
   {
    "duration": 358,
    "start_time": "2022-02-06T20:14:36.342Z"
   },
   {
    "duration": 5,
    "start_time": "2022-02-06T20:14:44.941Z"
   },
   {
    "duration": 3170,
    "start_time": "2022-02-06T20:14:56.909Z"
   },
   {
    "duration": 33,
    "start_time": "2022-02-06T20:15:07.765Z"
   },
   {
    "duration": 36,
    "start_time": "2022-02-06T20:15:12.773Z"
   },
   {
    "duration": 5,
    "start_time": "2022-02-06T20:15:16.133Z"
   },
   {
    "duration": 18,
    "start_time": "2022-02-06T20:15:19.717Z"
   },
   {
    "duration": 33,
    "start_time": "2022-02-06T20:15:35.997Z"
   },
   {
    "duration": 6,
    "start_time": "2022-02-06T20:15:45.844Z"
   },
   {
    "duration": 10,
    "start_time": "2022-02-06T20:16:15.636Z"
   },
   {
    "duration": 19,
    "start_time": "2022-02-06T20:16:18.268Z"
   },
   {
    "duration": 12,
    "start_time": "2022-02-06T20:16:23.924Z"
   },
   {
    "duration": 22,
    "start_time": "2022-02-06T20:24:21.893Z"
   },
   {
    "duration": 9,
    "start_time": "2022-02-06T20:24:25.293Z"
   },
   {
    "duration": 7,
    "start_time": "2022-02-06T20:24:29.558Z"
   },
   {
    "duration": 74787,
    "start_time": "2022-02-06T20:24:32.500Z"
   },
   {
    "duration": 179,
    "start_time": "2022-02-06T20:26:08.291Z"
   },
   {
    "duration": 21,
    "start_time": "2022-02-06T20:26:11.267Z"
   },
   {
    "duration": 59,
    "start_time": "2022-02-06T20:26:15.163Z"
   },
   {
    "duration": 1463,
    "start_time": "2022-02-06T20:26:50.974Z"
   },
   {
    "duration": 36,
    "start_time": "2022-02-06T20:26:52.439Z"
   },
   {
    "duration": 25,
    "start_time": "2022-02-06T20:26:52.481Z"
   },
   {
    "duration": 12,
    "start_time": "2022-02-06T20:26:52.508Z"
   },
   {
    "duration": 98,
    "start_time": "2022-02-06T20:26:52.523Z"
   },
   {
    "duration": 48,
    "start_time": "2022-02-06T20:26:52.624Z"
   },
   {
    "duration": 9,
    "start_time": "2022-02-06T20:26:52.676Z"
   },
   {
    "duration": 11,
    "start_time": "2022-02-06T20:26:52.689Z"
   },
   {
    "duration": 6,
    "start_time": "2022-02-06T20:26:52.703Z"
   },
   {
    "duration": 61,
    "start_time": "2022-02-06T20:26:52.712Z"
   },
   {
    "duration": 24,
    "start_time": "2022-02-06T20:26:52.776Z"
   },
   {
    "duration": 18,
    "start_time": "2022-02-06T20:26:52.803Z"
   },
   {
    "duration": 11,
    "start_time": "2022-02-06T20:26:52.823Z"
   },
   {
    "duration": 39,
    "start_time": "2022-02-06T20:26:52.836Z"
   },
   {
    "duration": 11,
    "start_time": "2022-02-06T20:26:52.877Z"
   },
   {
    "duration": 10,
    "start_time": "2022-02-06T20:26:52.890Z"
   },
   {
    "duration": 12,
    "start_time": "2022-02-06T20:26:52.903Z"
   },
   {
    "duration": 9,
    "start_time": "2022-02-06T20:26:52.918Z"
   },
   {
    "duration": 145,
    "start_time": "2022-02-06T20:26:52.930Z"
   },
   {
    "duration": 466,
    "start_time": "2022-02-06T20:26:53.170Z"
   },
   {
    "duration": 1703,
    "start_time": "2022-02-06T20:26:53.638Z"
   },
   {
    "duration": 280,
    "start_time": "2022-02-06T20:26:55.346Z"
   },
   {
    "duration": 51479,
    "start_time": "2022-02-06T20:26:55.630Z"
   },
   {
    "duration": 291,
    "start_time": "2022-02-06T20:27:47.112Z"
   },
   {
    "duration": 13,
    "start_time": "2022-02-06T20:27:47.406Z"
   },
   {
    "duration": 7,
    "start_time": "2022-02-06T20:27:47.421Z"
   },
   {
    "duration": 36485,
    "start_time": "2022-02-06T20:27:47.431Z"
   },
   {
    "duration": 411,
    "start_time": "2022-02-06T20:28:23.919Z"
   },
   {
    "duration": 294,
    "start_time": "2022-02-06T20:28:24.332Z"
   },
   {
    "duration": 283,
    "start_time": "2022-02-06T20:28:24.629Z"
   },
   {
    "duration": 395,
    "start_time": "2022-02-06T20:28:24.915Z"
   },
   {
    "duration": -50,
    "start_time": "2022-02-06T20:28:25.363Z"
   },
   {
    "duration": -52,
    "start_time": "2022-02-06T20:28:25.367Z"
   },
   {
    "duration": -53,
    "start_time": "2022-02-06T20:28:25.371Z"
   },
   {
    "duration": -55,
    "start_time": "2022-02-06T20:28:25.375Z"
   },
   {
    "duration": -57,
    "start_time": "2022-02-06T20:28:25.379Z"
   },
   {
    "duration": -57,
    "start_time": "2022-02-06T20:28:25.382Z"
   },
   {
    "duration": -59,
    "start_time": "2022-02-06T20:28:25.386Z"
   },
   {
    "duration": -65,
    "start_time": "2022-02-06T20:28:25.394Z"
   },
   {
    "duration": -66,
    "start_time": "2022-02-06T20:28:25.397Z"
   },
   {
    "duration": -66,
    "start_time": "2022-02-06T20:28:25.400Z"
   },
   {
    "duration": -67,
    "start_time": "2022-02-06T20:28:25.403Z"
   },
   {
    "duration": -67,
    "start_time": "2022-02-06T20:28:25.406Z"
   },
   {
    "duration": 22,
    "start_time": "2022-02-06T20:29:42.128Z"
   },
   {
    "duration": 11,
    "start_time": "2022-02-06T20:29:46.823Z"
   },
   {
    "duration": 6,
    "start_time": "2022-02-06T20:29:51.839Z"
   },
   {
    "duration": 75103,
    "start_time": "2022-02-06T20:29:55.345Z"
   },
   {
    "duration": 449,
    "start_time": "2022-02-06T20:31:16.678Z"
   },
   {
    "duration": 276,
    "start_time": "2022-02-06T20:31:20.093Z"
   },
   {
    "duration": 341,
    "start_time": "2022-02-06T20:31:22.758Z"
   },
   {
    "duration": 108,
    "start_time": "2022-02-06T20:31:56.866Z"
   },
   {
    "duration": 15,
    "start_time": "2022-02-06T20:32:01.629Z"
   },
   {
    "duration": 39,
    "start_time": "2022-02-06T20:32:04.893Z"
   },
   {
    "duration": 286,
    "start_time": "2022-02-06T20:32:21.397Z"
   },
   {
    "duration": 420,
    "start_time": "2022-02-06T20:33:00.333Z"
   },
   {
    "duration": 254,
    "start_time": "2022-02-06T20:33:10.980Z"
   },
   {
    "duration": 261,
    "start_time": "2022-02-06T20:33:18.300Z"
   },
   {
    "duration": 303,
    "start_time": "2022-02-06T20:33:28.645Z"
   },
   {
    "duration": 1692,
    "start_time": "2022-02-06T20:33:40.477Z"
   },
   {
    "duration": 34,
    "start_time": "2022-02-06T20:33:42.172Z"
   },
   {
    "duration": 23,
    "start_time": "2022-02-06T20:33:42.209Z"
   },
   {
    "duration": 12,
    "start_time": "2022-02-06T20:33:42.234Z"
   },
   {
    "duration": 81,
    "start_time": "2022-02-06T20:33:42.248Z"
   },
   {
    "duration": 59,
    "start_time": "2022-02-06T20:33:42.332Z"
   },
   {
    "duration": 12,
    "start_time": "2022-02-06T20:33:42.393Z"
   },
   {
    "duration": 15,
    "start_time": "2022-02-06T20:33:42.410Z"
   },
   {
    "duration": 41,
    "start_time": "2022-02-06T20:33:42.429Z"
   },
   {
    "duration": 21,
    "start_time": "2022-02-06T20:33:42.473Z"
   },
   {
    "duration": 24,
    "start_time": "2022-02-06T20:33:42.496Z"
   },
   {
    "duration": 18,
    "start_time": "2022-02-06T20:33:42.522Z"
   },
   {
    "duration": 11,
    "start_time": "2022-02-06T20:33:42.569Z"
   },
   {
    "duration": 9,
    "start_time": "2022-02-06T20:33:42.582Z"
   },
   {
    "duration": 7,
    "start_time": "2022-02-06T20:33:42.594Z"
   },
   {
    "duration": 9,
    "start_time": "2022-02-06T20:33:42.604Z"
   },
   {
    "duration": 11,
    "start_time": "2022-02-06T20:33:42.616Z"
   },
   {
    "duration": 7,
    "start_time": "2022-02-06T20:33:42.670Z"
   },
   {
    "duration": 94,
    "start_time": "2022-02-06T20:33:42.680Z"
   },
   {
    "duration": 568,
    "start_time": "2022-02-06T20:33:42.778Z"
   },
   {
    "duration": 1737,
    "start_time": "2022-02-06T20:33:43.349Z"
   },
   {
    "duration": 283,
    "start_time": "2022-02-06T20:33:45.089Z"
   },
   {
    "duration": 58383,
    "start_time": "2022-02-06T20:33:45.378Z"
   },
   {
    "duration": 365,
    "start_time": "2022-02-06T20:34:43.768Z"
   },
   {
    "duration": 16,
    "start_time": "2022-02-06T20:34:44.140Z"
   },
   {
    "duration": 9,
    "start_time": "2022-02-06T20:34:44.170Z"
   },
   {
    "duration": 36538,
    "start_time": "2022-02-06T20:34:44.182Z"
   },
   {
    "duration": 402,
    "start_time": "2022-02-06T20:35:20.722Z"
   },
   {
    "duration": 281,
    "start_time": "2022-02-06T20:35:21.126Z"
   },
   {
    "duration": 288,
    "start_time": "2022-02-06T20:35:21.409Z"
   },
   {
    "duration": 23,
    "start_time": "2022-02-06T20:35:21.699Z"
   },
   {
    "duration": 8,
    "start_time": "2022-02-06T20:35:21.724Z"
   },
   {
    "duration": 38,
    "start_time": "2022-02-06T20:35:21.734Z"
   },
   {
    "duration": 75261,
    "start_time": "2022-02-06T20:35:21.775Z"
   },
   {
    "duration": 438,
    "start_time": "2022-02-06T20:36:37.039Z"
   },
   {
    "duration": 327,
    "start_time": "2022-02-06T20:36:37.480Z"
   },
   {
    "duration": 419,
    "start_time": "2022-02-06T20:36:37.810Z"
   },
   {
    "duration": 55,
    "start_time": "2022-02-06T20:36:38.231Z"
   },
   {
    "duration": 19,
    "start_time": "2022-02-06T20:36:38.371Z"
   },
   {
    "duration": 103,
    "start_time": "2022-02-06T20:36:38.392Z"
   },
   {
    "duration": 419,
    "start_time": "2022-02-06T20:36:38.499Z"
   },
   {
    "duration": 289,
    "start_time": "2022-02-06T20:36:38.921Z"
   },
   {
    "duration": 324,
    "start_time": "2022-02-06T20:36:39.213Z"
   },
   {
    "duration": 1444,
    "start_time": "2022-02-07T18:35:50.478Z"
   },
   {
    "duration": 1411,
    "start_time": "2022-02-07T18:37:43.680Z"
   },
   {
    "duration": 142,
    "start_time": "2022-02-07T18:37:45.094Z"
   },
   {
    "duration": 22,
    "start_time": "2022-02-07T18:37:45.239Z"
   },
   {
    "duration": 12,
    "start_time": "2022-02-07T18:37:45.264Z"
   },
   {
    "duration": 58,
    "start_time": "2022-02-07T18:37:45.278Z"
   },
   {
    "duration": 32,
    "start_time": "2022-02-07T18:37:45.358Z"
   },
   {
    "duration": 9,
    "start_time": "2022-02-07T18:37:45.392Z"
   },
   {
    "duration": 10,
    "start_time": "2022-02-07T18:37:45.405Z"
   },
   {
    "duration": 41,
    "start_time": "2022-02-07T18:37:45.418Z"
   },
   {
    "duration": 19,
    "start_time": "2022-02-07T18:37:45.461Z"
   },
   {
    "duration": 21,
    "start_time": "2022-02-07T18:37:45.482Z"
   },
   {
    "duration": 16,
    "start_time": "2022-02-07T18:37:45.505Z"
   },
   {
    "duration": 38,
    "start_time": "2022-02-07T18:37:45.523Z"
   },
   {
    "duration": 8,
    "start_time": "2022-02-07T18:37:45.564Z"
   },
   {
    "duration": 8,
    "start_time": "2022-02-07T18:37:45.575Z"
   },
   {
    "duration": 8,
    "start_time": "2022-02-07T18:37:45.586Z"
   },
   {
    "duration": 11,
    "start_time": "2022-02-07T18:37:45.596Z"
   },
   {
    "duration": 50,
    "start_time": "2022-02-07T18:37:45.609Z"
   },
   {
    "duration": 100,
    "start_time": "2022-02-07T18:37:45.661Z"
   },
   {
    "duration": 554,
    "start_time": "2022-02-07T18:37:45.765Z"
   },
   {
    "duration": 1581,
    "start_time": "2022-02-07T18:37:46.322Z"
   },
   {
    "duration": 274,
    "start_time": "2022-02-07T18:37:47.905Z"
   },
   {
    "duration": 51015,
    "start_time": "2022-02-07T18:37:48.184Z"
   },
   {
    "duration": 270,
    "start_time": "2022-02-07T18:38:39.202Z"
   },
   {
    "duration": 14,
    "start_time": "2022-02-07T18:38:39.475Z"
   },
   {
    "duration": 8,
    "start_time": "2022-02-07T18:38:39.492Z"
   },
   {
    "duration": 35421,
    "start_time": "2022-02-07T18:38:39.502Z"
   },
   {
    "duration": 392,
    "start_time": "2022-02-07T18:39:14.925Z"
   },
   {
    "duration": 265,
    "start_time": "2022-02-07T18:39:15.320Z"
   },
   {
    "duration": 280,
    "start_time": "2022-02-07T18:39:15.587Z"
   },
   {
    "duration": 22,
    "start_time": "2022-02-07T18:39:15.869Z"
   },
   {
    "duration": 9,
    "start_time": "2022-02-07T18:39:15.893Z"
   },
   {
    "duration": 12,
    "start_time": "2022-02-07T18:39:15.904Z"
   },
   {
    "duration": 71466,
    "start_time": "2022-02-07T18:39:15.918Z"
   },
   {
    "duration": 426,
    "start_time": "2022-02-07T18:40:27.386Z"
   },
   {
    "duration": 300,
    "start_time": "2022-02-07T18:40:27.815Z"
   },
   {
    "duration": 349,
    "start_time": "2022-02-07T18:40:28.118Z"
   },
   {
    "duration": 1709,
    "start_time": "2022-02-07T18:40:28.469Z"
   },
   {
    "duration": -663,
    "start_time": "2022-02-07T18:40:30.844Z"
   },
   {
    "duration": 46,
    "start_time": "2022-02-07T18:56:51.552Z"
   },
   {
    "duration": 283,
    "start_time": "2022-02-07T18:57:11.823Z"
   },
   {
    "duration": 93,
    "start_time": "2022-02-07T20:03:03.191Z"
   },
   {
    "duration": 1917,
    "start_time": "2022-02-07T20:08:19.266Z"
   },
   {
    "duration": 46,
    "start_time": "2022-02-07T20:08:21.186Z"
   },
   {
    "duration": 36,
    "start_time": "2022-02-07T20:08:21.236Z"
   },
   {
    "duration": 15,
    "start_time": "2022-02-07T20:08:21.275Z"
   },
   {
    "duration": 91,
    "start_time": "2022-02-07T20:08:21.293Z"
   },
   {
    "duration": 74,
    "start_time": "2022-02-07T20:08:21.387Z"
   },
   {
    "duration": 13,
    "start_time": "2022-02-07T20:08:21.465Z"
   },
   {
    "duration": 16,
    "start_time": "2022-02-07T20:08:21.484Z"
   },
   {
    "duration": 8,
    "start_time": "2022-02-07T20:08:21.504Z"
   },
   {
    "duration": 66,
    "start_time": "2022-02-07T20:08:21.515Z"
   },
   {
    "duration": 24,
    "start_time": "2022-02-07T20:08:21.584Z"
   },
   {
    "duration": 17,
    "start_time": "2022-02-07T20:08:21.611Z"
   },
   {
    "duration": 37,
    "start_time": "2022-02-07T20:08:21.631Z"
   },
   {
    "duration": 9,
    "start_time": "2022-02-07T20:08:21.671Z"
   },
   {
    "duration": 9,
    "start_time": "2022-02-07T20:08:21.683Z"
   },
   {
    "duration": 12,
    "start_time": "2022-02-07T20:08:21.694Z"
   },
   {
    "duration": 53,
    "start_time": "2022-02-07T20:08:21.709Z"
   },
   {
    "duration": 10,
    "start_time": "2022-02-07T20:08:21.765Z"
   },
   {
    "duration": 183,
    "start_time": "2022-02-07T20:08:21.777Z"
   },
   {
    "duration": 572,
    "start_time": "2022-02-07T20:08:21.963Z"
   },
   {
    "duration": 1703,
    "start_time": "2022-02-07T20:08:22.538Z"
   },
   {
    "duration": 274,
    "start_time": "2022-02-07T20:08:24.244Z"
   },
   {
    "duration": 53274,
    "start_time": "2022-02-07T20:08:24.523Z"
   },
   {
    "duration": 287,
    "start_time": "2022-02-07T20:09:17.800Z"
   },
   {
    "duration": 14,
    "start_time": "2022-02-07T20:09:18.090Z"
   },
   {
    "duration": 9,
    "start_time": "2022-02-07T20:09:18.106Z"
   },
   {
    "duration": 35825,
    "start_time": "2022-02-07T20:09:18.118Z"
   },
   {
    "duration": 446,
    "start_time": "2022-02-07T20:09:53.945Z"
   },
   {
    "duration": 278,
    "start_time": "2022-02-07T20:09:54.393Z"
   },
   {
    "duration": 291,
    "start_time": "2022-02-07T20:09:54.674Z"
   },
   {
    "duration": 25,
    "start_time": "2022-02-07T20:09:54.968Z"
   },
   {
    "duration": 8,
    "start_time": "2022-02-07T20:09:54.996Z"
   },
   {
    "duration": 10,
    "start_time": "2022-02-07T20:09:55.007Z"
   },
   {
    "duration": 72194,
    "start_time": "2022-02-07T20:09:55.019Z"
   },
   {
    "duration": 401,
    "start_time": "2022-02-07T20:11:07.216Z"
   },
   {
    "duration": 269,
    "start_time": "2022-02-07T20:11:07.619Z"
   },
   {
    "duration": 351,
    "start_time": "2022-02-07T20:11:07.890Z"
   },
   {
    "duration": 53,
    "start_time": "2022-02-07T20:11:08.243Z"
   },
   {
    "duration": 304,
    "start_time": "2022-02-07T20:11:08.299Z"
   },
   {
    "duration": 301,
    "start_time": "2022-02-08T04:08:44.378Z"
   },
   {
    "duration": 1426,
    "start_time": "2022-02-08T04:09:34.739Z"
   },
   {
    "duration": 34,
    "start_time": "2022-02-08T04:09:36.168Z"
   },
   {
    "duration": 30,
    "start_time": "2022-02-08T04:09:36.207Z"
   },
   {
    "duration": 10,
    "start_time": "2022-02-08T04:09:36.240Z"
   },
   {
    "duration": 83,
    "start_time": "2022-02-08T04:09:36.253Z"
   },
   {
    "duration": 33,
    "start_time": "2022-02-08T04:09:36.338Z"
   },
   {
    "duration": 9,
    "start_time": "2022-02-08T04:09:36.374Z"
   },
   {
    "duration": 10,
    "start_time": "2022-02-08T04:09:36.386Z"
   },
   {
    "duration": 39,
    "start_time": "2022-02-08T04:09:36.398Z"
   },
   {
    "duration": 21,
    "start_time": "2022-02-08T04:09:36.439Z"
   },
   {
    "duration": 22,
    "start_time": "2022-02-08T04:09:36.462Z"
   },
   {
    "duration": 46,
    "start_time": "2022-02-08T04:09:36.486Z"
   },
   {
    "duration": 10,
    "start_time": "2022-02-08T04:09:36.534Z"
   },
   {
    "duration": 8,
    "start_time": "2022-02-08T04:09:36.546Z"
   },
   {
    "duration": 9,
    "start_time": "2022-02-08T04:09:36.557Z"
   },
   {
    "duration": 10,
    "start_time": "2022-02-08T04:09:36.569Z"
   },
   {
    "duration": 11,
    "start_time": "2022-02-08T04:09:36.581Z"
   },
   {
    "duration": 43,
    "start_time": "2022-02-08T04:09:36.594Z"
   },
   {
    "duration": 99,
    "start_time": "2022-02-08T04:09:36.640Z"
   },
   {
    "duration": 540,
    "start_time": "2022-02-08T04:09:36.742Z"
   },
   {
    "duration": 1533,
    "start_time": "2022-02-08T04:09:37.284Z"
   },
   {
    "duration": 260,
    "start_time": "2022-02-08T04:09:38.832Z"
   },
   {
    "duration": 48699,
    "start_time": "2022-02-08T04:09:39.096Z"
   },
   {
    "duration": 277,
    "start_time": "2022-02-08T04:10:27.798Z"
   },
   {
    "duration": 12,
    "start_time": "2022-02-08T04:10:28.078Z"
   },
   {
    "duration": 7,
    "start_time": "2022-02-08T04:10:28.093Z"
   },
   {
    "duration": 34824,
    "start_time": "2022-02-08T04:10:28.102Z"
   },
   {
    "duration": 454,
    "start_time": "2022-02-08T04:11:02.933Z"
   },
   {
    "duration": 363,
    "start_time": "2022-02-08T04:11:03.389Z"
   },
   {
    "duration": 284,
    "start_time": "2022-02-08T04:11:03.755Z"
   },
   {
    "duration": 23,
    "start_time": "2022-02-08T04:11:04.041Z"
   },
   {
    "duration": 8,
    "start_time": "2022-02-08T04:11:04.066Z"
   },
   {
    "duration": 13,
    "start_time": "2022-02-08T04:11:04.076Z"
   },
   {
    "duration": 69192,
    "start_time": "2022-02-08T04:11:04.091Z"
   },
   {
    "duration": 387,
    "start_time": "2022-02-08T04:12:13.286Z"
   },
   {
    "duration": 260,
    "start_time": "2022-02-08T04:12:13.676Z"
   },
   {
    "duration": 284,
    "start_time": "2022-02-08T04:12:13.939Z"
   },
   {
    "duration": 43,
    "start_time": "2022-02-08T04:12:14.225Z"
   },
   {
    "duration": 289,
    "start_time": "2022-02-08T04:12:14.271Z"
   },
   {
    "duration": 1158,
    "start_time": "2022-02-08T19:00:33.272Z"
   },
   {
    "duration": 139,
    "start_time": "2022-02-08T19:00:34.432Z"
   },
   {
    "duration": 14,
    "start_time": "2022-02-08T19:00:34.573Z"
   },
   {
    "duration": 7,
    "start_time": "2022-02-08T19:00:34.588Z"
   },
   {
    "duration": 33,
    "start_time": "2022-02-08T19:00:34.597Z"
   },
   {
    "duration": 41,
    "start_time": "2022-02-08T19:00:34.632Z"
   },
   {
    "duration": 7,
    "start_time": "2022-02-08T19:00:34.674Z"
   },
   {
    "duration": 7,
    "start_time": "2022-02-08T19:00:34.683Z"
   },
   {
    "duration": 4,
    "start_time": "2022-02-08T19:00:34.692Z"
   },
   {
    "duration": 13,
    "start_time": "2022-02-08T19:00:34.697Z"
   },
   {
    "duration": 14,
    "start_time": "2022-02-08T19:00:34.712Z"
   },
   {
    "duration": 44,
    "start_time": "2022-02-08T19:00:34.728Z"
   },
   {
    "duration": 11,
    "start_time": "2022-02-08T19:00:34.774Z"
   },
   {
    "duration": 8,
    "start_time": "2022-02-08T19:00:34.787Z"
   },
   {
    "duration": 6,
    "start_time": "2022-02-08T19:00:34.797Z"
   },
   {
    "duration": 7,
    "start_time": "2022-02-08T19:00:34.804Z"
   },
   {
    "duration": 8,
    "start_time": "2022-02-08T19:00:34.813Z"
   },
   {
    "duration": 11,
    "start_time": "2022-02-08T19:00:34.823Z"
   },
   {
    "duration": 48,
    "start_time": "2022-02-08T19:00:34.836Z"
   },
   {
    "duration": 373,
    "start_time": "2022-02-08T19:00:34.886Z"
   },
   {
    "duration": 1179,
    "start_time": "2022-02-08T19:00:35.261Z"
   },
   {
    "duration": 158,
    "start_time": "2022-02-08T19:00:36.442Z"
   },
   {
    "duration": 32792,
    "start_time": "2022-02-08T19:00:36.603Z"
   },
   {
    "duration": 162,
    "start_time": "2022-02-08T19:01:09.397Z"
   },
   {
    "duration": 13,
    "start_time": "2022-02-08T19:01:09.561Z"
   },
   {
    "duration": 5,
    "start_time": "2022-02-08T19:01:09.575Z"
   },
   {
    "duration": 22164,
    "start_time": "2022-02-08T19:01:09.582Z"
   },
   {
    "duration": 334,
    "start_time": "2022-02-08T19:01:31.748Z"
   },
   {
    "duration": 158,
    "start_time": "2022-02-08T19:01:32.083Z"
   },
   {
    "duration": 158,
    "start_time": "2022-02-08T19:01:32.242Z"
   },
   {
    "duration": 14,
    "start_time": "2022-02-08T19:01:32.401Z"
   },
   {
    "duration": 5,
    "start_time": "2022-02-08T19:01:32.416Z"
   },
   {
    "duration": 6,
    "start_time": "2022-02-08T19:01:32.422Z"
   },
   {
    "duration": 43552,
    "start_time": "2022-02-08T19:01:32.429Z"
   },
   {
    "duration": 329,
    "start_time": "2022-02-08T19:02:15.983Z"
   },
   {
    "duration": 158,
    "start_time": "2022-02-08T19:02:16.314Z"
   },
   {
    "duration": 176,
    "start_time": "2022-02-08T19:02:16.473Z"
   },
   {
    "duration": 35,
    "start_time": "2022-02-08T19:02:16.651Z"
   },
   {
    "duration": 163,
    "start_time": "2022-02-08T19:02:16.688Z"
   }
  ],
  "kernelspec": {
   "display_name": "Python 3",
   "language": "python",
   "name": "python3"
  },
  "language_info": {
   "codemirror_mode": {
    "name": "ipython",
    "version": 3
   },
   "file_extension": ".py",
   "mimetype": "text/x-python",
   "name": "python",
   "nbconvert_exporter": "python",
   "pygments_lexer": "ipython3",
   "version": "3.9.2"
  },
  "toc": {
   "base_numbering": 1,
   "nav_menu": {},
   "number_sections": true,
   "sideBar": true,
   "skip_h1_title": true,
   "title_cell": "Содержание",
   "title_sidebar": "Contents",
   "toc_cell": true,
   "toc_position": {
    "height": "calc(100% - 180px)",
    "left": "10px",
    "top": "150px",
    "width": "323.729px"
   },
   "toc_section_display": true,
   "toc_window_display": false
  }
 },
 "nbformat": 4,
 "nbformat_minor": 2
}
